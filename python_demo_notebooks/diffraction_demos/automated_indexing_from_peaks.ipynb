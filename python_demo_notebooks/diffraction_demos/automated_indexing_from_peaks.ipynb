{
 "cells": [
  {
   "cell_type": "code",
   "execution_count": 2,
   "metadata": {
    "collapsed": false,
    "jupyter": {
     "outputs_hidden": false
    },
    "pycharm": {
     "name": "#%%\n"
    }
   },
   "outputs": [],
   "source": [
    "%matplotlib qt\n",
    "import math\n",
    "from matplotlib import pyplot as plt\n",
    "import numpy as np\n",
    "import hyperspy.api as hs\n",
    "import pyxem as pxm\n",
    "from pyxem.utils.sim_utils import sim_as_signal\n",
    "\n",
    "import os\n",
    "import addcopyfighandler\n",
    "\n",
    "from diffsims.libraries.structure_library import StructureLibrary\n",
    "from diffsims.generators.diffraction_generator import DiffractionGenerator\n",
    "from diffsims.generators.library_generator import DiffractionLibraryGenerator\n",
    "\n",
    "from transforms3d.euler import axangle2euler\n",
    "import diffpy.structure"
   ]
  },
  {
   "cell_type": "markdown",
   "metadata": {},
   "source": [
    "# Indexing from peaks 2D\n",
    "\n",
    "Notebook to index diffraction peaks from 2D detector images, in order to find the zone axis of the diffraction pattern from simulations of diffraction crystal files.\n",
    "\n",
    "### Set all the variables first:"
   ]
  },
  {
   "cell_type": "code",
   "execution_count": 4,
   "metadata": {
    "collapsed": false,
    "jupyter": {
     "outputs_hidden": false
    },
    "pycharm": {
     "name": "#%%\n"
    }
   },
   "outputs": [],
   "source": [
    "### VARIABLE PARAMETERS ###\n",
    "\n",
    "# PEAK VECTORS\n",
    "## Paste the peaks coordinates found in the `find_peaks` function\n",
    "peaks2D = np.array(\n",
    "[[0.03505, 0.02103],\n",
    " [-0.13319, 0.21731],\n",
    " [-0.03505, -0.27338999999999997],\n",
    " [-0.38555, 0.10515],\n",
    " [0.45565, -0.049069999999999996],\n",
    " [0.41358999999999996, -0.20329],\n",
    " [-0.30143, 0.39957],\n",
    " [0.62389, -0.23132999999999998],\n",
    " [-0.44162999999999997, 0.73605]]\n",
    ")\n",
    "\n",
    "## Select which two peaks to use (provide the index)\n",
    "p1_index = 1\n",
    "p2_index = 4\n",
    "## Include the error in length and in angle (error_angle * 2) you will permit.\n",
    "error_angle = 4\n",
    "error_length = 0.1\n",
    "dp_is_centered = True\n",
    "\n",
    "# SIMULATION DETECTOR PARAMETERS:\n",
    "pattern_size = 256  # pixels\n",
    "reciprocal_radius = 1.5\n",
    "beam_energy = 300.0\n",
    "max_excitation_error = 0.025\n",
    "\n",
    "# EXTERNAL FILES:\n",
    "## Select structure file name\n",
    "structure_name = 'FAPbI3'\n",
    "## The crossproduct dhkl file\n",
    "path_dhkl = os.path.relpath('data/structures/FAPbI3_Cubic_ReflexionList.txt')\n",
    "crystal_structure = 'cubic'\n",
    "## The CIF files to use to simulate diffraction\n",
    "load_structure_path = os.path.relpath('data/structures/FAPbI3_Cubic.cif')"
   ]
  },
  {
   "cell_type": "markdown",
   "metadata": {
    "pycharm": {
     "name": "#%% md\n"
    }
   },
   "source": [
    "## Calculate the length and vector angle of the selected peaks"
   ]
  },
  {
   "cell_type": "code",
   "execution_count": 5,
   "metadata": {
    "collapsed": false,
    "jupyter": {
     "outputs_hidden": false
    },
    "pycharm": {
     "name": "#%%\n"
    }
   },
   "outputs": [
    {
     "name": "stdout",
     "output_type": "stream",
     "text": [
      "0.2548788186570238 0.4582846139682195 127.65089237885087\n"
     ]
    }
   ],
   "source": [
    "v0 = (0.,0.)\n",
    "v1 = peaks2D[p1_index]\n",
    "v2 = peaks2D[p2_index]\n",
    "\n",
    "#Calculate vector length and vector angle\n",
    "length_1 = np.linalg.norm(v1-v0)\n",
    "length_2 = np.linalg.norm(v2-v0)\n",
    "error_1 = length_1*0.1\n",
    "error_2 = length_2*0.1\n",
    "\n",
    "angle_12 = np.arccos((np.dot(v1-v0, v2-v0))/(length_1 * length_2))\n",
    "angle_12 = np.rad2deg(angle_12)\n",
    "\n",
    "print(length_1, length_2, angle_12)"
   ]
  },
  {
   "cell_type": "markdown",
   "metadata": {},
   "source": [
    "## Define useful functions"
   ]
  },
  {
   "cell_type": "markdown",
   "metadata": {},
   "source": [
    "### Hexagonal structure\n",
    "Determines the interplanar angle for two planes in a hexagonal structure:\n",
    "- `v1, v2` are the planes of interest.\n",
    "- `a,b,c` are the unit cell parameters.\n",
    "\n",
    "See [equation 2-6](http://iucr.or.kr/pdf/18(1)07-09.pdf) for derivation."
   ]
  },
  {
   "cell_type": "code",
   "execution_count": 99,
   "metadata": {
    "collapsed": false,
    "jupyter": {
     "outputs_hidden": false
    },
    "pycharm": {
     "name": "#%%\n"
    }
   },
   "outputs": [],
   "source": [
    "def hex_inter_angle(v1, v2, a, b, c):\n",
    "    h1=v1[0]\n",
    "    k1=v1[1]\n",
    "    l1=v1[2]\n",
    "    h2=v2[0]\n",
    "    k2=v2[1]\n",
    "    l2=v2[2]\n",
    "    z=((h1*h2 + k1*k2 +(h1*k2 +k1*h2)/2 + ((3*a**2)/(4*c**2))*l1*l2)\n",
    "       /(math.sqrt((h1**2+k1**2+h1*k1+((3*a**2)/(4*c**2))*l1**2)*\n",
    "                   (h2**2+k2**2+h2*k2+((3*a**2)/(4*c**2))*l2**2))))\n",
    "    theta = math.acos(z)\n",
    "    return np.rad2deg(theta)"
   ]
  },
  {
   "cell_type": "markdown",
   "metadata": {},
   "source": [
    "### Cubic, tetragonal and Orthorhombic structure\n",
    "Determines the interplanar angle for two planes in a cubic/orthorhombic or tetragonal structure:\n",
    "- `v1, v2` are the planes of interest\n",
    "- `a,b,c` are the unit cell parameters\n",
    "\n",
    "See [equation 2-7](http://iucr.or.kr/pdf/18(1)07-09.pdf) for derivation."
   ]
  },
  {
   "cell_type": "code",
   "execution_count": 6,
   "metadata": {
    "collapsed": false,
    "jupyter": {
     "outputs_hidden": false
    },
    "pycharm": {
     "name": "#%%\n"
    }
   },
   "outputs": [],
   "source": [
    "def cto_inter_angle(v1, v2, a, b, c):\n",
    "    h1=v1[0]\n",
    "    k1=v1[1]\n",
    "    l1=v1[2]\n",
    "    h2=v2[0]\n",
    "    k2=v2[1]\n",
    "    l2=v2[2]\n",
    "    z=(((h1*h2/a**2)+(k1*k2/b**2)+(l1*l2/c**2))\n",
    "       /(((h1**2)/(a**2)+(k1**2)/(b**2)+(l1**2)\n",
    "          /(c**2))**0.5*((h2**2)/(a**2)+(k2**2)/(b**2)+(l2**2)/(c**2))**0.5))\n",
    "    theta = math.acos(z)\n",
    "    return np.rad2deg(theta)\n"
   ]
  },
  {
   "cell_type": "raw",
   "metadata": {
    "jupyter": {
     "outputs_hidden": false
    },
    "pycharm": {
     "name": "#%%\n"
    }
   },
   "source": [
    "# Searches through duplicates and return unique vectors\n",
    "\n",
    "def unique_rows(a):\n",
    "    a = np.ascontiguousarray(a)\n",
    "    unique_a = np.unique(a.view([('', a.dtype)]*a.shape[1]))\n",
    "    return unique_a.view(a.dtype).reshape((unique_a.shape[0], a.shape[1]))"
   ]
  },
  {
   "cell_type": "markdown",
   "metadata": {},
   "source": [
    "## Find possible orientations that match the experimental input vectors and angle"
   ]
  },
  {
   "cell_type": "code",
   "execution_count": 7,
   "metadata": {
    "collapsed": false,
    "jupyter": {
     "outputs_hidden": false
    },
    "pycharm": {
     "name": "#%%\n"
    }
   },
   "outputs": [
    {
     "data": {
      "text/plain": [
       "array([[ 1.        ,  0.        ,  0.        ,  0.15720057],\n",
       "       [ 0.        ,  0.        ,  1.        ,  0.15720057],\n",
       "       [ 0.        ,  1.        ,  0.        ,  0.15720057],\n",
       "       ...,\n",
       "       [ 3.        , -8.        ,  3.        ,  1.42350781],\n",
       "       [-8.        ,  3.        ,  3.        ,  1.42350781],\n",
       "       [ 3.        ,  3.        , -8.        ,  1.42350781]])"
      ]
     },
     "execution_count": 7,
     "metadata": {},
     "output_type": "execute_result"
    }
   ],
   "source": [
    "# Load dhkl file\n",
    "data = np.loadtxt(path_dhkl, skiprows=9,usecols=(0,1,2,3))\n",
    "data[:,3] = 1/data[:,3]\n",
    "data"
   ]
  },
  {
   "cell_type": "code",
   "execution_count": 9,
   "metadata": {
    "collapsed": false,
    "jupyter": {
     "outputs_hidden": false
    },
    "pycharm": {
     "name": "#%%\n"
    }
   },
   "outputs": [
    {
     "name": "stdout",
     "output_type": "stream",
     "text": [
      "6.3613 6.3613 6.3613\n"
     ]
    }
   ],
   "source": [
    "# First, get the unit cell lengths from the structure file and store as a, b and c:\n",
    "\n",
    "unit_cell_len = {'a': None, 'b': None, 'c':None}\n",
    "for row in data:\n",
    "    if row[0] == 1. and row[1] == 0. and row[2] == 0.:\n",
    "        unit_cell_len['a'] = row[3]\n",
    "    if row[0] == 0. and row[1] == 1. and row[2] == 0.:\n",
    "        unit_cell_len['b'] = row[3]\n",
    "    if row[0] == 0. and row[1] == 0. and row[2] == 1.:\n",
    "        unit_cell_len['c'] = row[3]\n",
    "    if unit_cell_len['a'] is not None and unit_cell_len['b'] is not None and unit_cell_len['c'] is not None :\n",
    "        break\n",
    "\n",
    "a = 1/ unit_cell_len['a']\n",
    "b = 1/ unit_cell_len['b']\n",
    "c = 1/ unit_cell_len['c']\n",
    "print(a,b,c)"
   ]
  },
  {
   "cell_type": "code",
   "execution_count": 10,
   "metadata": {
    "collapsed": false,
    "jupyter": {
     "outputs_hidden": false
    },
    "pycharm": {
     "name": "#%%\n"
    }
   },
   "outputs": [],
   "source": [
    "where_1 = np.where(np.logical_and(data[:,3]>(length_1-error_1), data[:,3]<(length_1+error_1)))\n",
    "where_2 = np.where(np.logical_and(data[:,3]>(length_2-error_2), data[:,3]<(length_2+error_2)))\n",
    "vectors_1 = data[where_1,0:3]\n",
    "vectors_2 = data[where_2,0:3]\n",
    "orientation = []\n",
    "for i in range(0,len(vectors_1[0])):\n",
    "    for k in range(0, len(vectors_2[0])):\n",
    "        if crystal_structure == 'hexagonal':\n",
    "            angle = hex_inter_angle(vectors_1[0,i], vectors_2[0,k], a, b, c)\n",
    "        elif crystal_structure == 'cubic' or crystal_structure == 'cubic' or crystal_structure == 'cubic':\n",
    "            angle = cto_inter_angle(vectors_1[0,i], vectors_2[0,k], a, b, c)\n",
    "        else:\n",
    "            raise ValueError(\"This notebook only supports cubic, tetragonal, orthorhombic and hexagonal lattice structures.\")\n",
    "        if abs(angle-angle_12) < error_angle:\n",
    "            cross = np.cross(vectors_1[0,i], vectors_2[0,k])\n",
    "            orientation.append(cross)"
   ]
  },
  {
   "cell_type": "code",
   "execution_count": 11,
   "metadata": {
    "collapsed": false,
    "jupyter": {
     "outputs_hidden": false
    },
    "pycharm": {
     "name": "#%%\n"
    }
   },
   "outputs": [
    {
     "data": {
      "text/plain": [
       "9"
      ]
     },
     "execution_count": 11,
     "metadata": {},
     "output_type": "execute_result"
    }
   ],
   "source": [
    "orientation = np.array(orientation)\n",
    "len(orientation)"
   ]
  },
  {
   "cell_type": "code",
   "execution_count": 12,
   "metadata": {
    "collapsed": false,
    "jupyter": {
     "outputs_hidden": false
    },
    "pycharm": {
     "name": "#%%\n"
    }
   },
   "outputs": [
    {
     "name": "stdout",
     "output_type": "stream",
     "text": [
      "Vectors:\n",
      "----------------\n",
      "[[ 3. -3.  0.]\n",
      " [ 3.  0.  3.]\n",
      " [ 0. -3. -3.]\n",
      " [ 0.  3. -3.]\n",
      " [-3.  0. -3.]\n",
      " [ 3.  3.  0.]\n",
      " [-3.  0.  3.]\n",
      " [ 0.  3.  3.]\n",
      " [-3. -3.  0.]]\n"
     ]
    }
   ],
   "source": [
    "print(\"Vectors:\")\n",
    "print(\"----------------\")\n",
    "print(orientation)"
   ]
  },
  {
   "cell_type": "code",
   "execution_count": 106,
   "metadata": {
    "collapsed": false,
    "jupyter": {
     "outputs_hidden": false
    },
    "pycharm": {
     "name": "#%%\n"
    }
   },
   "outputs": [],
   "source": [
    "#roi_letter = 'G'\n",
    "#cif_name = 'FAPbI3'\n",
    "#save_path = '../../../data/SED/roi/roi_{}/indexing/{}_{}_l1_{}_l2_{}_a12_{}'.format(roi_letter,cif_name, crystal_structure, length_1,length_2,angle_12)\n",
    "#np.save(save_path, reduce_vectors)"
   ]
  },
  {
   "cell_type": "code",
   "execution_count": null,
   "metadata": {
    "collapsed": false,
    "jupyter": {
     "outputs_hidden": false
    },
    "pycharm": {
     "name": "#%%\n"
    }
   },
   "outputs": [],
   "source": []
  },
  {
   "cell_type": "markdown",
   "metadata": {},
   "source": [
    "# Simulating possible zone axis\n",
    "From the possible vectors as zone axis"
   ]
  },
  {
   "cell_type": "code",
   "execution_count": 13,
   "metadata": {
    "collapsed": false,
    "jupyter": {
     "outputs_hidden": false
    },
    "pycharm": {
     "name": "#%%\n"
    }
   },
   "outputs": [
    {
     "data": {
      "text/plain": [
       "9"
      ]
     },
     "execution_count": 13,
     "metadata": {},
     "output_type": "execute_result"
    }
   ],
   "source": [
    "vectors = orientation\n",
    "len(vectors)"
   ]
  },
  {
   "cell_type": "markdown",
   "metadata": {},
   "source": [
    "## Load diffpy structure file (`.cif`)"
   ]
  },
  {
   "cell_type": "code",
   "execution_count": 20,
   "metadata": {
    "collapsed": false,
    "jupyter": {
     "outputs_hidden": false
    },
    "pycharm": {
     "name": "#%%\n"
    }
   },
   "outputs": [
    {
     "data": {
      "text/plain": [
       "Lattice(a=6.3613, b=6.3613, c=6.3613, alpha=90, beta=90, gamma=90)"
      ]
     },
     "execution_count": 20,
     "metadata": {},
     "output_type": "execute_result"
    }
   ],
   "source": [
    "cif_name = os.path.basename(load_structure_path).split('.')[0]\n",
    "\n",
    "structure = diffpy.structure.loadStructure(load_structure_path)\n",
    "structure.lattice\n"
   ]
  },
  {
   "cell_type": "markdown",
   "metadata": {},
   "source": [
    "## Calculate the rotation for each vector\n",
    "Finds the rotation angles that takes [001] to a given zone axis."
   ]
  },
  {
   "cell_type": "code",
   "execution_count": 21,
   "metadata": {
    "collapsed": false,
    "jupyter": {
     "outputs_hidden": false
    },
    "pycharm": {
     "name": "#%%\n"
    }
   },
   "outputs": [],
   "source": [
    "def get_rotation_from_z_to_direction(structure, direction):\n",
    "    \"\"\"\n",
    "    Finds the rotation that takes [001] to a given zone axis.\n",
    "    Parameters\n",
    "    ----------\n",
    "    structure : diffpy.structure\n",
    "        The structure for which a rotation needs to be found\n",
    "    direction : array like\n",
    "        [UVW] direction that the 'z' axis should end up point down.\n",
    "    Returns\n",
    "    -------\n",
    "    euler_angles : tuple\n",
    "        'rzxz' in degrees\n",
    "    See Also\n",
    "    --------\n",
    "    generate_zap_map\n",
    "    get_grid_around_beam_direction\n",
    "    Notes\n",
    "    -----\n",
    "    This implementation works with an axis arrangement that has +x as left to right,\n",
    "    +y as bottom to top and +z as out of the plane of a page. Rotations are counter clockwise\n",
    "    as you look from the tip of the axis towards the origin\n",
    "    \"\"\"\n",
    "\n",
    "    # Case where we don't need a rotation, As axis is [0,0,z] or [0,0,0]\n",
    "    if np.dot(direction, [0, 0, 1]) == np.linalg.norm(direction):\n",
    "        return (0, 0, 0)\n",
    "\n",
    "    # Normalize our directions\n",
    "    cartesian_direction = structure.lattice.cartesian(direction)\n",
    "    cartesian_direction = cartesian_direction / np.linalg.norm(cartesian_direction)\n",
    "\n",
    "    # Find the rotation using cartesian vector geometry\n",
    "    rotation_axis = np.cross([0, 0, 1], cartesian_direction)\n",
    "    rotation_angle = np.arccos(np.dot([0, 0, 1], cartesian_direction))\n",
    "    euler = axangle2euler(rotation_axis, rotation_angle, axes=\"rzxz\")\n",
    "    return np.rad2deg(euler)"
   ]
  },
  {
   "cell_type": "code",
   "execution_count": 22,
   "metadata": {
    "collapsed": false,
    "jupyter": {
     "outputs_hidden": false
    },
    "pycharm": {
     "name": "#%%\n"
    }
   },
   "outputs": [],
   "source": [
    "euler_angles = []\n",
    "for i in range(0, len(vectors)):\n",
    "    angles=get_rotation_from_z_to_direction(structure,vectors[i])\n",
    "    euler_angles.append(angles)"
   ]
  },
  {
   "cell_type": "code",
   "execution_count": 23,
   "metadata": {
    "collapsed": false,
    "jupyter": {
     "outputs_hidden": false
    },
    "pycharm": {
     "name": "#%%\n"
    }
   },
   "outputs": [],
   "source": [
    "euler_angles = np.array(euler_angles)\n",
    "where_nan= np.isnan(euler_angles)\n",
    "euler_angles[where_nan]=0\n",
    "convert = map(tuple, euler_angles)\n",
    "euler_angles = tuple(convert)"
   ]
  },
  {
   "cell_type": "code",
   "execution_count": 24,
   "metadata": {
    "collapsed": false,
    "jupyter": {
     "outputs_hidden": false
    },
    "pycharm": {
     "name": "#%%\n"
    }
   },
   "outputs": [
    {
     "data": {
      "text/plain": [
       "9"
      ]
     },
     "execution_count": 24,
     "metadata": {},
     "output_type": "execute_result"
    }
   ],
   "source": [
    "len(euler_angles)"
   ]
  },
  {
   "cell_type": "markdown",
   "metadata": {},
   "source": [
    "## Simulate theoretical diffraction patterns in the plausible zone axis\n",
    "Set up the detector parameters.\n",
    "The diffraction generator will simulate diffraction of the structure file for every plausible zone axis."
   ]
  },
  {
   "cell_type": "code",
   "execution_count": 25,
   "metadata": {
    "collapsed": false,
    "jupyter": {
     "outputs_hidden": false
    },
    "pycharm": {
     "name": "#%%\n"
    }
   },
   "outputs": [],
   "source": [
    "# From the parameters stated at the beginning\n",
    "\n",
    "half_pattern_size = pattern_size // 2\n",
    "calibration = reciprocal_radius / half_pattern_size\n",
    "\n",
    "ediff = DiffractionGenerator(beam_energy, max_excitation_error)  # keV and relrod length (1/Å)"
   ]
  },
  {
   "cell_type": "code",
   "execution_count": 26,
   "metadata": {
    "collapsed": false,
    "jupyter": {
     "outputs_hidden": false
    },
    "pycharm": {
     "name": "#%%\n"
    }
   },
   "outputs": [
    {
     "name": "stderr",
     "output_type": "stream",
     "text": [
      "                                                                                                                       \r"
     ]
    }
   ],
   "source": [
    "phase_names = [cif_name]\n",
    "sample_lib = StructureLibrary(phase_names, [structure], [list(euler_angles)])\n",
    "\n",
    "diff_gen = DiffractionLibraryGenerator(ediff)\n",
    "library = diff_gen.get_diffraction_library(sample_lib,\n",
    "                                          calibration =calibration,\n",
    "                                          reciprocal_radius=reciprocal_radius,\n",
    "                                          half_shape = (half_pattern_size, half_pattern_size),\n",
    "                                          with_direct_beam = True)\n",
    "data_phase=[]\n",
    "for i in range(0, len(euler_angles)):\n",
    "    pattern = sim_as_signal(library.get_library_entry(phase = cif_name, angle = (euler_angles[i]))['Sim'],\n",
    "                       pattern_size, max_excitation_error, reciprocal_radius)\n",
    "    data_phase.append(pattern)\n",
    "\n",
    "data = [x.data for x in data_phase]\n",
    "test_data = pxm.ElectronDiffraction2D(np.asarray(data).reshape(1,len(euler_angles), pattern_size, pattern_size))\n",
    "test_data.set_diffraction_calibration(calibration)"
   ]
  },
  {
   "cell_type": "markdown",
   "metadata": {},
   "source": [
    "## Plot results"
   ]
  },
  {
   "cell_type": "code",
   "execution_count": 27,
   "metadata": {
    "collapsed": false,
    "jupyter": {
     "outputs_hidden": false
    },
    "pycharm": {
     "name": "#%%\n"
    }
   },
   "outputs": [],
   "source": [
    "# Correct the beam shift to match the simulated data center\n",
    "shift = v0\n",
    "\n",
    "peaks2D[:,0] -= shift[0]\n",
    "peaks2D[:,1] -= shift[1]\n",
    "\n",
    "#Reshape navigation axis to only 1 dim\n",
    "test_data = test_data.inav[:,0]"
   ]
  },
  {
   "cell_type": "code",
   "execution_count": 28,
   "metadata": {
    "collapsed": false,
    "jupyter": {
     "outputs_hidden": false
    },
    "pycharm": {
     "name": "#%%\n"
    }
   },
   "outputs": [],
   "source": [
    "spot_size = 100\n",
    "test_data.plot(vmax = 0.01, cmap = 'inferno')\n",
    "markers = (hs.plot.markers.point(p[0],p[1],size=spot_size, color='green') for p in peaks2D)\n",
    "c_marker = (hs.plot.markers.point(v0[0], v0[1], size=spot_size, color='yellow'),\n",
    "            hs.plot.markers.text(v0[0], v0[1], 'v0', color='black'),)\n",
    "text_markers = (hs.plot.markers.text(v1[0], v1[1], 'v{}'.format(p1_index), color='white'),\n",
    "                hs.plot.markers.point(v1[0],v1[1], size=spot_size*1.5, color='white'),\n",
    "                hs.plot.markers.text(v2[0], v2[1], 'v{}'.format(p2_index), color='white'),\n",
    "                hs.plot.markers.point(v2[0],v2[1], size=spot_size*1.5, color='white'))\n",
    "\n",
    "zone_axis_markers = hs.plot.markers.text(tuple(np.full(len(vectors), -1)), tuple(np.full(len(vectors), -1)), tuple(str(s) for s in vectors), color='white')\n",
    "\n",
    "test_data.add_marker(text_markers)\n",
    "test_data.add_marker(markers)\n",
    "test_data.add_marker(c_marker)\n",
    "test_data.add_marker(zone_axis_markers)"
   ]
  },
  {
   "cell_type": "markdown",
   "metadata": {
    "jupyter": {
     "outputs_hidden": false
    },
    "pycharm": {
     "name": "#%%\n"
    }
   },
   "source": [
    "# END"
   ]
  },
  {
   "cell_type": "code",
   "execution_count": null,
   "metadata": {
    "collapsed": false,
    "jupyter": {
     "outputs_hidden": false
    },
    "pycharm": {
     "name": "#%%\n"
    }
   },
   "outputs": [],
   "source": []
  },
  {
   "cell_type": "code",
   "execution_count": null,
   "metadata": {
    "collapsed": false,
    "jupyter": {
     "outputs_hidden": false
    },
    "pycharm": {
     "name": "#%%\n"
    }
   },
   "outputs": [],
   "source": []
  },
  {
   "cell_type": "code",
   "execution_count": null,
   "metadata": {
    "collapsed": false,
    "jupyter": {
     "outputs_hidden": false
    },
    "pycharm": {
     "name": "#%%\n"
    }
   },
   "outputs": [],
   "source": []
  },
  {
   "cell_type": "code",
   "execution_count": null,
   "metadata": {
    "collapsed": false,
    "jupyter": {
     "outputs_hidden": false
    },
    "pycharm": {
     "name": "#%%\n"
    }
   },
   "outputs": [],
   "source": []
  },
  {
   "cell_type": "code",
   "execution_count": null,
   "metadata": {
    "collapsed": false,
    "jupyter": {
     "outputs_hidden": false
    },
    "pycharm": {
     "name": "#%%\n"
    }
   },
   "outputs": [],
   "source": []
  },
  {
   "cell_type": "code",
   "execution_count": null,
   "metadata": {
    "collapsed": false,
    "jupyter": {
     "outputs_hidden": false
    },
    "pycharm": {
     "name": "#%%\n"
    }
   },
   "outputs": [],
   "source": []
  },
  {
   "cell_type": "code",
   "execution_count": null,
   "metadata": {
    "collapsed": false,
    "jupyter": {
     "outputs_hidden": false
    },
    "pycharm": {
     "name": "#%%\n"
    }
   },
   "outputs": [],
   "source": []
  },
  {
   "cell_type": "code",
   "execution_count": null,
   "metadata": {
    "collapsed": false,
    "jupyter": {
     "outputs_hidden": false
    },
    "pycharm": {
     "name": "#%%\n"
    }
   },
   "outputs": [],
   "source": []
  },
  {
   "cell_type": "code",
   "execution_count": null,
   "metadata": {
    "collapsed": false,
    "jupyter": {
     "outputs_hidden": false
    },
    "pycharm": {
     "name": "#%%\n"
    }
   },
   "outputs": [],
   "source": []
  },
  {
   "cell_type": "code",
   "execution_count": null,
   "metadata": {
    "collapsed": false,
    "jupyter": {
     "outputs_hidden": false
    },
    "pycharm": {
     "name": "#%%\n"
    }
   },
   "outputs": [],
   "source": []
  },
  {
   "cell_type": "code",
   "execution_count": null,
   "metadata": {
    "collapsed": false,
    "jupyter": {
     "outputs_hidden": false
    },
    "pycharm": {
     "name": "#%%\n"
    }
   },
   "outputs": [],
   "source": []
  },
  {
   "cell_type": "code",
   "execution_count": null,
   "metadata": {
    "collapsed": false,
    "jupyter": {
     "outputs_hidden": false
    },
    "pycharm": {
     "name": "#%%\n"
    }
   },
   "outputs": [],
   "source": []
  },
  {
   "cell_type": "code",
   "execution_count": null,
   "metadata": {
    "collapsed": false,
    "jupyter": {
     "outputs_hidden": false
    },
    "pycharm": {
     "name": "#%%\n"
    }
   },
   "outputs": [],
   "source": []
  },
  {
   "cell_type": "code",
   "execution_count": null,
   "metadata": {
    "collapsed": false,
    "jupyter": {
     "outputs_hidden": false
    },
    "pycharm": {
     "name": "#%%\n"
    }
   },
   "outputs": [],
   "source": []
  },
  {
   "cell_type": "code",
   "execution_count": null,
   "metadata": {
    "collapsed": false,
    "jupyter": {
     "outputs_hidden": false
    },
    "pycharm": {
     "name": "#%%\n"
    }
   },
   "outputs": [],
   "source": []
  },
  {
   "cell_type": "code",
   "execution_count": null,
   "metadata": {
    "collapsed": false,
    "jupyter": {
     "outputs_hidden": false
    },
    "pycharm": {
     "name": "#%%\n"
    }
   },
   "outputs": [],
   "source": []
  },
  {
   "cell_type": "code",
   "execution_count": null,
   "metadata": {
    "collapsed": false,
    "jupyter": {
     "outputs_hidden": false
    },
    "pycharm": {
     "name": "#%%\n"
    }
   },
   "outputs": [],
   "source": []
  },
  {
   "cell_type": "code",
   "execution_count": null,
   "metadata": {
    "collapsed": false,
    "jupyter": {
     "outputs_hidden": false
    },
    "pycharm": {
     "name": "#%%\n"
    }
   },
   "outputs": [],
   "source": []
  },
  {
   "cell_type": "code",
   "execution_count": null,
   "metadata": {
    "collapsed": false,
    "jupyter": {
     "outputs_hidden": false
    },
    "pycharm": {
     "name": "#%%\n"
    }
   },
   "outputs": [],
   "source": [
    "\n"
   ]
  }
 ],
 "metadata": {
  "kernelspec": {
   "display_name": "Python 3",
   "language": "python",
   "name": "python3"
  },
  "language_info": {
   "codemirror_mode": {
    "name": "ipython",
    "version": 3
   },
   "file_extension": ".py",
   "mimetype": "text/x-python",
   "name": "python",
   "nbconvert_exporter": "python",
   "pygments_lexer": "ipython3",
   "version": "3.6.9"
  }
 },
 "nbformat": 4,
 "nbformat_minor": 4
}
