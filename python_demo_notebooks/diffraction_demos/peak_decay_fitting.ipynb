{
 "cells": [
  {
   "cell_type": "code",
   "execution_count": 1,
   "metadata": {
    "collapsed": false,
    "jupyter": {
     "outputs_hidden": false
    },
    "pycharm": {
     "name": "#%%\n"
    }
   },
   "outputs": [],
   "source": [
    "%matplotlib qt\n",
    "# NOTE: Running on non-linear-axis Hyperspy branch\n",
    "import hyperspy.api as hs\n",
    "import pyxem as pxm\n",
    "import numpy as np\n",
    "import matplotlib.pyplot as plt\n",
    "plt.style.use(['seaborn-talk'])\n",
    "import os\n",
    "import addcopyfighandler\n"
   ]
  },
  {
   "cell_type": "markdown",
   "metadata": {},
   "source": [
    "# XRD peak decay processing"
   ]
  },
  {
   "cell_type": "code",
   "execution_count": 3,
   "metadata": {
    "collapsed": false,
    "jupyter": {
     "outputs_hidden": false
    },
    "pycharm": {
     "name": "#%%\n"
    }
   },
   "outputs": [],
   "source": [
    "dps = hs.load('data/diffraction_decay.hspy')\n",
    "dps.plot()"
   ]
  },
  {
   "cell_type": "markdown",
   "metadata": {},
   "source": [
    "## Select peak of interest (ROI)\n",
    "Crop normalised data to small range containing the peak of interest. "
   ]
  },
  {
   "cell_type": "code",
   "execution_count": 4,
   "metadata": {
    "collapsed": false,
    "jupyter": {
     "outputs_hidden": false
    },
    "pycharm": {
     "name": "#%%\n"
    }
   },
   "outputs": [],
   "source": [
    "q_of_interest = 1.082\n",
    "integration_range = 0.01"
   ]
  },
  {
   "cell_type": "markdown",
   "metadata": {},
   "source": [
    "### Peak integration\n",
    "Integrate the ROI:"
   ]
  },
  {
   "cell_type": "code",
   "execution_count": 5,
   "metadata": {
    "collapsed": false,
    "jupyter": {
     "outputs_hidden": false
    },
    "pycharm": {
     "name": "#%%\n"
    }
   },
   "outputs": [],
   "source": [
    "dpc = dps.isig[(q_of_interest - integration_range):(q_of_interest + integration_range)]\n",
    "dpc.plot()"
   ]
  },
  {
   "cell_type": "code",
   "execution_count": 6,
   "metadata": {
    "collapsed": false,
    "jupyter": {
     "outputs_hidden": false
    },
    "pycharm": {
     "name": "#%%\n"
    }
   },
   "outputs": [
    {
     "data": {
      "text/plain": [
       "Text(0.6, 0.95, \"('q_of_interest: ', 1.082, '; integration_range: ', 0.01)\")"
      ]
     },
     "execution_count": 6,
     "metadata": {},
     "output_type": "execute_result"
    }
   ],
   "source": [
    "integral = dpc.integrate1D(axis=1)\n",
    "integral.plot()\n",
    "plt.suptitle(y=0.95, x=0.6, t=('q_of_interest: ', q_of_interest, '; integration_range: ', integration_range))"
   ]
  },
  {
   "cell_type": "markdown",
   "metadata": {
    "pycharm": {
     "name": "#%% md\n"
    }
   },
   "source": [
    "# Intensity decay model fitting"
   ]
  },
  {
   "cell_type": "markdown",
   "metadata": {},
   "source": [
    "## Using `scipy` fitting\n",
    "\n",
    "Fitting an exponential with `scipy` for the intensity decay.\n",
    "\n",
    "The model to be fitted has the following expression:\n",
    "\n",
    "$f(x)= A e^{-\\frac{x}{\\tau}}$\n",
    "with parameters:\n",
    "- $A:$ Maximum intensity\n",
    "- $\\tau:$ Scale parameter (time constant)"
   ]
  },
  {
   "cell_type": "code",
   "execution_count": 7,
   "metadata": {
    "collapsed": false,
    "jupyter": {
     "outputs_hidden": false
    },
    "pycharm": {
     "name": "#%%\n"
    }
   },
   "outputs": [
    {
     "data": {
      "text/plain": [
       "array([[0.00000000e+00, 4.12589388e-01],\n",
       "       [1.00000000e+00, 4.08486998e-01],\n",
       "       [2.00000000e+00, 4.20305356e-01],\n",
       "       ...,\n",
       "       [5.97000000e+02, 9.82420728e-02],\n",
       "       [5.98000000e+02, 9.76431654e-02],\n",
       "       [5.99000000e+02, 9.98495650e-02]])"
      ]
     },
     "execution_count": 7,
     "metadata": {},
     "output_type": "execute_result"
    }
   ],
   "source": [
    "# Create xy array\n",
    "x = np.vstack(dps.axes_manager.navigation_axes[0].axis)\n",
    "x_units = dps.axes_manager.navigation_axes[0].units\n",
    "y = np.vstack(integral.data)\n",
    "\n",
    "xy = np.hstack((x,y))\n",
    "xy"
   ]
  },
  {
   "cell_type": "code",
   "execution_count": 8,
   "metadata": {
    "collapsed": false,
    "jupyter": {
     "outputs_hidden": false
    },
    "pycharm": {
     "name": "#%%\n"
    }
   },
   "outputs": [],
   "source": [
    "# Remove points where NaN values as y\n",
    "xy = xy[~np.isnan(xy)[:,1]]"
   ]
  },
  {
   "cell_type": "code",
   "execution_count": 10,
   "metadata": {
    "collapsed": false,
    "jupyter": {
     "outputs_hidden": false
    },
    "pycharm": {
     "name": "#%%\n"
    }
   },
   "outputs": [],
   "source": [
    "from scipy.optimize import curve_fit\n",
    "def exp_func(x, A, tau):\n",
    "    return A*np.exp(-x / tau)\n",
    "\n",
    "param, param_cov = curve_fit(exp_func, xy[:,0], xy[:,1], )\n",
    "param_std = np.sqrt(np.diag(param_cov))"
   ]
  },
  {
   "cell_type": "code",
   "execution_count": 11,
   "metadata": {
    "collapsed": false,
    "jupyter": {
     "outputs_hidden": false
    },
    "pycharm": {
     "name": "#%%\n"
    }
   },
   "outputs": [
    {
     "data": {
      "text/plain": [
       "Text(0.5, 0.98, 'Peak decay')"
      ]
     },
     "execution_count": 11,
     "metadata": {},
     "output_type": "execute_result"
    }
   ],
   "source": [
    "exp_fit = exp_func(xy[:,0], param[0], param[1])\n",
    "\n",
    "plt.plot(xy[:,0], xy[:,1], label='Data')\n",
    "plt.plot(xy[:,0], exp_fit, 'C2',\n",
    "         label=('Fit: $({A:.2f} \\pm {A_std:.2f}) \\cdot exp[-x / ({tau:.2f} \\pm {tau_std:.2f})]$'.format(A = param[0], A_std = param_std[0], tau = param[1], tau_std = param_std[1])))\n",
    "plt.xlabel('Flux ({})'.format(x_units))\n",
    "plt.legend()\n",
    "plt.suptitle(\"Peak decay\", fontsize='xx-large')\n",
    "\n"
   ]
  },
  {
   "cell_type": "code",
   "execution_count": null,
   "metadata": {},
   "outputs": [],
   "source": []
  }
 ],
 "metadata": {
  "kernelspec": {
   "display_name": "Python 3",
   "language": "python",
   "name": "python3"
  },
  "language_info": {
   "codemirror_mode": {
    "name": "ipython",
    "version": 3
   },
   "file_extension": ".py",
   "mimetype": "text/x-python",
   "name": "python",
   "nbconvert_exporter": "python",
   "pygments_lexer": "ipython3",
   "version": "3.6.9"
  }
 },
 "nbformat": 4,
 "nbformat_minor": 4
}
