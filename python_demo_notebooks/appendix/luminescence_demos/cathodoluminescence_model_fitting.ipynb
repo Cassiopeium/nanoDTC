{
 "cells": [
  {
   "cell_type": "markdown",
   "metadata": {},
   "source": [
    "# Demo for LumiSpy package working with AttoLight SEM CL data\n",
    "\n",
    "This notebook shows:\n",
    "\n",
    "- Loading a `HYPCard.bin` file correctly with the lumispy load function\n",
    "- Plotting cathodoluminescence data in different ways\n",
    "- Dealing with metadata\n",
    "- Correcting for spectral defects"
   ]
  },
  {
   "cell_type": "markdown",
   "metadata": {},
   "source": [
    "Import packages:"
   ]
  },
  {
   "cell_type": "code",
   "execution_count": 1,
   "metadata": {
    "collapsed": false,
    "jupyter": {
     "outputs_hidden": false
    },
    "pycharm": {
     "name": "#%%\n"
    }
   },
   "outputs": [
    {
     "name": "stderr",
     "output_type": "stream",
     "text": [
      "WARNING:hyperspy.api:The traitsui GUI elements are not available, probably because the hyperspy_gui_traitsui package is not installed.\n"
     ]
    }
   ],
   "source": [
    "%matplotlib qt \n",
    "#%matplotlib inline\n",
    "import lumispy as lum\n",
    "import hyperspy.api as hs\n",
    "\n",
    "import matplotlib.pyplot as plt\n",
    "from matplotlib_scalebar.scalebar import ScaleBar\n",
    "import numpy as np\n",
    "import addcopyfighandler"
   ]
  },
  {
   "cell_type": "markdown",
   "metadata": {},
   "source": [
    "### Loading luminescence files"
   ]
  },
  {
   "cell_type": "code",
   "execution_count": 3,
   "metadata": {
    "collapsed": false,
    "jupyter": {
     "outputs_hidden": false
    },
    "pycharm": {
     "name": "#%%\n"
    }
   },
   "outputs": [],
   "source": [
    "cl_sem = hs.load('data/cathodoluminescence_example.hspy', signal_type='CL_SEM')"
   ]
  },
  {
   "cell_type": "markdown",
   "metadata": {},
   "source": [
    "### Plotting data\n",
    "\n",
    "Plot the corrected data:"
   ]
  },
  {
   "cell_type": "code",
   "execution_count": 4,
   "metadata": {
    "collapsed": false,
    "jupyter": {
     "outputs_hidden": false
    },
    "pycharm": {
     "name": "#%%\n"
    }
   },
   "outputs": [],
   "source": [
    "cl_sem.plot()"
   ]
  },
  {
   "cell_type": "markdown",
   "metadata": {},
   "source": [
    "### Panchromatic image:"
   ]
  },
  {
   "cell_type": "code",
   "execution_count": 5,
   "metadata": {
    "collapsed": false,
    "jupyter": {
     "outputs_hidden": false
    },
    "pycharm": {
     "name": "#%%\n"
    }
   },
   "outputs": [],
   "source": [
    "cl_sem.T.mean().plot(cmap='viridis')"
   ]
  },
  {
   "cell_type": "code",
   "execution_count": 6,
   "metadata": {
    "collapsed": false,
    "jupyter": {
     "outputs_hidden": false
    },
    "pycharm": {
     "name": "#%%\n"
    }
   },
   "outputs": [],
   "source": [
    "cl_sem.mean().plot()"
   ]
  },
  {
   "cell_type": "markdown",
   "metadata": {},
   "source": [
    "# Get plotting"
   ]
  },
  {
   "cell_type": "markdown",
   "metadata": {},
   "source": [
    "## Get the colour filtered panchromatic images\n",
    "\n",
    "Select two energy regions to plot as coloured images (same way it is done in the AttoLight software)"
   ]
  },
  {
   "cell_type": "code",
   "execution_count": 22,
   "outputs": [],
   "source": [
    "im = cl_sem.T\n",
    "im.plot()\n",
    "roi1 = hs.roi.SpanROI(left=455, right=485) #sets a digitalbandfilter\n",
    "im_roi1 = roi1.interactive(im, color=\"red\")\n",
    "im_roi1_mean = hs.interactive(im_roi1.mean,\n",
    "                          event=roi1.events.changed,\n",
    "                          recompute_out_event=None)\n",
    "im_roi1_mean.plot(cmap='viridis')"
   ],
   "metadata": {
    "collapsed": false,
    "pycharm": {
     "name": "#%%\n"
    }
   }
  },
  {
   "cell_type": "code",
   "execution_count": 23,
   "metadata": {
    "collapsed": false,
    "jupyter": {
     "outputs_hidden": false
    },
    "pycharm": {
     "name": "#%%\n"
    }
   },
   "outputs": [],
   "source": [
    "fig = plt.figure(figsize=(3.5,5),)\n",
    "gridsize = (1, 1)\n",
    "plt.matplotlib.gridspec.GridSpec(gridsize[0], gridsize[1])\n",
    "\n",
    "ax1 = plt.subplot2grid(gridsize, (0,0))\n",
    "ax1.imshow(roi1(im).mean(), cmap='Oranges')\n",
    "roi_width = roi1.right - roi1.left\n",
    "roi_centre = roi1.left + 0.5*roi_width\n",
    "ax1.set_title(\"{:.0f} $\\pm$ {:.0f} nm\".format(roi_centre, roi_width/2), color='orange')\n",
    "plt.axis('off')\n",
    "\n",
    "units = roi1(im).mean().axes_manager[0].units\n",
    "scale = roi1(im).mean().axes_manager[0].scale\n",
    "scalebar = ScaleBar(scale, units, location='lower right') # 1 pixel = 0.2 meter\n",
    "plt.gca().add_artist(scalebar)\n",
    "plt.suptitle(roi1(im).mean().metadata.General.title, y=0.03)\n",
    "plt.axis('off')\n",
    "plt.tight_layout(rect=(0,0.03,1,1))"
   ]
  },
  {
   "cell_type": "markdown",
   "metadata": {},
   "source": [
    "## Fitting Gaussian\n",
    "\n",
    "Select the starting parameters"
   ]
  },
  {
   "cell_type": "code",
   "execution_count": null,
   "outputs": [],
   "source": [
    "# First rebin navigation axis by 4 (otherwise fitting takes a long time)."
   ],
   "metadata": {
    "collapsed": false,
    "pycharm": {
     "name": "#%%\n"
    }
   }
  },
  {
   "cell_type": "code",
   "execution_count": 33,
   "outputs": [
    {
     "data": {
      "text/plain": "<CLSEMSpectrum, title: cathodoluminescence_example, dimensions: (50, 50|507)>"
     },
     "execution_count": 33,
     "metadata": {},
     "output_type": "execute_result"
    }
   ],
   "source": [
    "cl_sem_bin = cl_sem.rebin(scale=[2,2,2])\n",
    "cl_sem_bin"
   ],
   "metadata": {
    "collapsed": false,
    "pycharm": {
     "name": "#%%\n"
    }
   }
  },
  {
   "cell_type": "code",
   "execution_count": 34,
   "metadata": {
    "collapsed": false,
    "jupyter": {
     "outputs_hidden": false
    },
    "pycharm": {
     "name": "#%%\n"
    }
   },
   "outputs": [],
   "source": [
    "cl_sem_bin.plot()"
   ]
  },
  {
   "cell_type": "code",
   "execution_count": 36,
   "metadata": {
    "collapsed": false,
    "jupyter": {
     "outputs_hidden": false
    },
    "pycharm": {
     "name": "#%%\n"
    }
   },
   "outputs": [],
   "source": [
    "####################################\n",
    "#MODEL\n",
    "g1_centre = 513   # Guess for centre wavelength\n",
    "g1_max = g1_centre + 20      # Max value for centre wavelength\n",
    "g1_min = g1_centre - 20      # Min value for centre wavelength\n",
    "\n",
    "g1_fwhm = 50            #Guess for FWHM\n",
    "g1_fwhm_max = 150       #Maxvalue for FWHM\n",
    "g1_fwhm_min = 1         #Minvalue for FWHM\n",
    "\n",
    "g1_h = 15           #Guess for peak Intensity\n",
    "g1_h_max = 40      #Maxvalue for peak Intesity\n",
    "g1_h_min = 0         #Minvalue for peak Intensity\n",
    "\n",
    "bkg_offset = 650  #Background to be substracted"
   ]
  },
  {
   "cell_type": "code",
   "execution_count": 37,
   "metadata": {
    "collapsed": false,
    "jupyter": {
     "outputs_hidden": false
    },
    "pycharm": {
     "name": "#%%\n"
    }
   },
   "outputs": [],
   "source": [
    "m = cl_sem_bin.create_model()\n",
    "\n",
    "#Background offset\n",
    "bkg = hs.model.components1D.Offset()\n",
    "#Gaussian peak\n",
    "g1 = hs.model.components1D.Expression(\n",
    "expression=\"height * exp(-(x - x0) ** 2 * 4 * log(2)/ fwhm ** 2)\",\n",
    "name=\"Perovskite Peak\",\n",
    "position=\"x0\",\n",
    "height=1,\n",
    "fwhm=1,\n",
    "x0=0,\n",
    "module=\"numpy\")\n",
    "#Tweak guessed initial parameters\n",
    "m.extend([g1, bkg])\n",
    "g1.x0.value, g1.x0.bmax, g1.x0.bmin = g1_centre, g1_max, g1_min\n",
    "g1.fwhm.value, g1.fwhm.bmax, g1.fwhm.bmin = g1_fwhm, g1_fwhm_max, g1_fwhm_min\n",
    "g1.height.value, g1.height.bmax, g1.height.bmin = g1_h, g1_h_max, g1_h_min\n",
    "bkg.offset.value = bkg_offset"
   ]
  },
  {
   "cell_type": "code",
   "execution_count": 44,
   "metadata": {
    "collapsed": false,
    "jupyter": {
     "outputs_hidden": false
    },
    "pycharm": {
     "name": "#%%\n"
    }
   },
   "outputs": [
    {
     "data": {
      "text/plain": "HBox(children=(HTML(value=''), FloatProgress(value=0.0, max=2500.0), HTML(value='')))",
      "application/vnd.jupyter.widget-view+json": {
       "version_major": 2,
       "version_minor": 0,
       "model_id": "23ce79cc9b3a4fcca77620f74bde49ca"
      }
     },
     "metadata": {},
     "output_type": "display_data"
    },
    {
     "name": "stdout",
     "output_type": "stream",
     "text": [
      "\n"
     ]
    }
   ],
   "source": [
    "#Fit for all the positions\n",
    "m.multifit(bounded=True, show_progressbar=True, iterpath='serpentine')"
   ]
  },
  {
   "cell_type": "code",
   "execution_count": 39,
   "metadata": {},
   "outputs": [
    {
     "data": {
      "text/plain": "Model1D: cathodoluminescence_example\ncurrent_component_values: Perovskite Peak\nActive: True\nParameter Name |  Free |      Value |        Std |        Min |        Max\n============== | ===== | ========== | ========== | ========== | ==========\n          fwhm |  True |        1.0 |        0.0 |        1.0 |      150.0\n        height |  True | 8.88178419 |        0.0 |        0.0 |       40.0\n            x0 |  True | 502.020887 |        0.0 |      493.0 |      533.0\n\ncurrent_component_values: Offset\nActive: True\nParameter Name |  Free |      Value |        Std |        Min |        Max\n============== | ===== | ========== | ========== | ========== | ==========\n        offset |  True | 1.66589393 | 0.42955259 |       None |       None\n",
      "text/html": "<h4>Model1D: cathodoluminescence_example</h4><p><b>current_component_values: Perovskite Peak</b><br />Active: True</p><table style=\"width:100%\"><tr><th>Parameter Name</th><th>Free</th>\n            <th>Value</th><th>Std</th><th>Min</th><th>Max</th></tr><tr><td>fwhm</td><td>True</td><td>     1</td>\n                    <td>     0</td><td>     1</td><td>   150</td></tr><tr><td>height</td><td>True</td><td>8.88178e-16</td>\n                    <td>     0</td><td>     0</td><td>    40</td></tr><tr><td>x0</td><td>True</td><td>502.021</td>\n                    <td>     0</td><td>   493</td><td>   533</td></tr></table><p><b>current_component_values: Offset</b><br />Active: True</p><table style=\"width:100%\"><tr><th>Parameter Name</th><th>Free</th>\n            <th>Value</th><th>Std</th><th>Min</th><th>Max</th></tr><tr><td>offset</td><td>True</td><td>1.66589</td>\n                    <td>0.429553</td><td></td><td></td></tr></table>"
     },
     "metadata": {},
     "output_type": "display_data"
    }
   ],
   "source": [
    "m.print_current_values()"
   ]
  },
  {
   "cell_type": "code",
   "execution_count": 40,
   "metadata": {
    "collapsed": false,
    "jupyter": {
     "outputs_hidden": false
    },
    "pycharm": {
     "name": "#%%\n"
    }
   },
   "outputs": [],
   "source": [
    "#Plot the fit on the raw data\n",
    "m.plot(plot_components=True)"
   ]
  },
  {
   "cell_type": "code",
   "execution_count": 41,
   "metadata": {
    "collapsed": false,
    "jupyter": {
     "outputs_hidden": false
    },
    "pycharm": {
     "name": "#%%\n"
    }
   },
   "outputs": [],
   "source": [
    "m_x0 = g1.x0.as_signal()\n",
    "m_x0.plot(cmap='inferno')\n",
    "m_intensity = g1.height.as_signal()\n",
    "m_intensity.plot(cmap='viridis')"
   ]
  },
  {
   "cell_type": "markdown",
   "metadata": {},
   "source": [
    "You can do particle segmentation using model fitting:"
   ]
  },
  {
   "cell_type": "code",
   "execution_count": 42,
   "metadata": {
    "collapsed": false,
    "jupyter": {
     "outputs_hidden": false
    },
    "pycharm": {
     "name": "#%%\n"
    }
   },
   "outputs": [
    {
     "data": {
      "text/plain": "<matplotlib.image.AxesImage at 0x2da01d68148>"
     },
     "execution_count": 42,
     "metadata": {},
     "output_type": "execute_result"
    }
   ],
   "source": [
    "#Make mask to remove region where the intensity is below the mean value:\n",
    "mask_treshold = m_intensity.data.mean()\n",
    "mask = m_intensity.data > mask_treshold #Returns a boolean matrix mask\n",
    "plt.imshow(mask)"
   ]
  },
  {
   "cell_type": "code",
   "execution_count": 43,
   "metadata": {
    "collapsed": false,
    "jupyter": {
     "outputs_hidden": false
    },
    "pycharm": {
     "name": "#%%\n"
    }
   },
   "outputs": [],
   "source": [
    "m_x0 = g1.x0.as_signal()\n",
    "m_x0.data[~mask] = np.nan #This replaces all of values in m_x0.data that correspond to False values in the mask with np.nan\n",
    "m_x0.plot(cmap='viridis')"
   ]
  },
  {
   "cell_type": "code",
   "execution_count": null,
   "metadata": {
    "collapsed": false,
    "jupyter": {
     "outputs_hidden": false
    },
    "pycharm": {
     "name": "#%%\n"
    }
   },
   "outputs": [],
   "source": [
    "\n"
   ]
  }
 ],
 "metadata": {
  "kernelspec": {
   "display_name": "Python 3",
   "language": "python",
   "name": "python3"
  },
  "language_info": {
   "codemirror_mode": {
    "name": "ipython",
    "version": 3
   },
   "file_extension": ".py",
   "mimetype": "text/x-python",
   "name": "python",
   "nbconvert_exporter": "python",
   "pygments_lexer": "ipython3",
   "version": "3.6.9"
  }
 },
 "nbformat": 4,
 "nbformat_minor": 4
}