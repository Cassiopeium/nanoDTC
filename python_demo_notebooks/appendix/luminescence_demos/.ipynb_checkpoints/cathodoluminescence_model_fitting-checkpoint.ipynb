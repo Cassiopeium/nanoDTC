{
 "cells": [
  {
   "cell_type": "markdown",
   "source": [
    "# Demo for LumiSpy package working with AttoLight SEM CL data\n",
    "\n",
    "This notebook shows:\n",
    "\n",
    "- Loading a `HYPCard.bin` file correctly with the lumispy load function\n",
    "- Plotting cathodoluminescence data in different ways\n",
    "- Dealing with metadata\n",
    "- Correcting for spectral defects"
   ],
   "metadata": {
    "collapsed": false
   }
  },
  {
   "cell_type": "markdown",
   "source": [
    "Import packages:"
   ],
   "metadata": {
    "collapsed": false
   }
  },
  {
   "cell_type": "code",
   "execution_count": 1,
   "outputs": [],
   "source": [
    "%matplotlib qt \n",
    "#%matplotlib inline\n",
    "import lumispy as lum\n",
    "import hyperspy.api as hs\n",
    "\n",
    "import matplotlib.pyplot as plt\n",
    "from matplotlib_scalebar.scalebar import ScaleBar\n",
    "import numpy as np\n",
    "import addcopyfighandler"
   ],
   "metadata": {
    "collapsed": false,
    "pycharm": {
     "name": "#%%\n"
    }
   }
  },
  {
   "cell_type": "markdown",
   "source": [
    "### Loading luminescence files"
   ],
   "metadata": {
    "collapsed": false
   }
  },
  {
   "cell_type": "code",
   "execution_count": 16,
   "outputs": [],
   "source": [
    "cl_sem = hs.load('data/cathodoluminescence_example.hspy')\n"
   ],
   "metadata": {
    "collapsed": false,
    "pycharm": {
     "name": "#%%\n"
    }
   }
  },
  {
   "cell_type": "markdown",
   "source": [
    "### Plotting data\n",
    "\n",
    "Plot the corrected data:"
   ],
   "metadata": {
    "collapsed": false
   }
  },
  {
   "cell_type": "code",
   "execution_count": 19,
   "outputs": [],
   "source": [
    "cl_sem.plot()"
   ],
   "metadata": {
    "collapsed": false,
    "pycharm": {
     "name": "#%%\n"
    }
   }
  },
  {
   "cell_type": "markdown",
   "source": [
    "### Panchromatic image:"
   ],
   "metadata": {
    "collapsed": false
   }
  },
  {
   "cell_type": "code",
   "execution_count": 17,
   "outputs": [],
   "source": [
    "cl_sem.T.mean().plot(cmap='viridis')"
   ],
   "metadata": {
    "collapsed": false,
    "pycharm": {
     "name": "#%%\n"
    }
   }
  },
  {
   "cell_type": "code",
   "execution_count": 18,
   "outputs": [],
   "source": [
    "cl_sem.mean().plot()"
   ],
   "metadata": {
    "collapsed": false,
    "pycharm": {
     "name": "#%%\n"
    }
   }
  },
  {
   "cell_type": "markdown",
   "source": [
    "# Get plotting"
   ],
   "metadata": {
    "collapsed": false
   }
  },
  {
   "cell_type": "markdown",
   "source": [
    "## Get the colour filtered panchromatic images\n",
    "\n",
    "Select two energy regions to plot as coloured images (same way it is done in the AttoLight software)"
   ],
   "metadata": {
    "collapsed": false
   }
  },
  {
   "cell_type": "code",
   "execution_count": 20,
   "outputs": [],
   "source": [
    "im = cl_sem.T\n",
    "im.plot()\n",
    "roi1 = hs.roi.SpanROI(left=650, right=700)      #sets a digitalbandfilter\n",
    "im_roi1 = roi1.interactive(im, color=\"green\")"
   ],
   "metadata": {
    "collapsed": false,
    "pycharm": {
     "name": "#%%\n"
    }
   }
  },
  {
   "cell_type": "code",
   "execution_count": 21,
   "outputs": [],
   "source": [
    "fig = plt.figure(figsize=(3.5,5),)\n",
    "gridsize = (1, 1)\n",
    "plt.matplotlib.gridspec.GridSpec(gridsize[0], gridsize[1])\n",
    "\n",
    "ax1 = plt.subplot2grid(gridsize, (0,0))\n",
    "ax1.imshow(roi1(im).mean(), cmap='Oranges')\n",
    "roi_width = roi1.right - roi1.left\n",
    "roi_centre = roi1.left + 0.5*roi_width\n",
    "ax1.set_title(\"{:.0f} $\\pm$ {:.0f} nm\".format(roi_centre, roi_width/2), color='orange')\n",
    "plt.axis('off')\n",
    "\n",
    "units = roi1(im).mean().axes_manager[0].units\n",
    "scale = roi1(im).mean().axes_manager[0].scale\n",
    "scalebar = ScaleBar(scale, units, location='lower right') # 1 pixel = 0.2 meter\n",
    "plt.gca().add_artist(scalebar)\n",
    "plt.suptitle(roi1(im).mean().metadata.General.title, y=0.03)\n",
    "plt.axis('off')\n",
    "plt.tight_layout(rect=(0,0.03,1,1))"
   ],
   "metadata": {
    "collapsed": false,
    "pycharm": {
     "name": "#%%\n"
    }
   }
  },
  {
   "cell_type": "markdown",
   "source": [
    "## Fitting Gaussian\n",
    "\n",
    "Select the starting parameters"
   ],
   "metadata": {
    "collapsed": false
   }
  },
  {
   "cell_type": "code",
   "execution_count": 50,
   "outputs": [],
   "source": [
    "cl_sem.plot()"
   ],
   "metadata": {
    "collapsed": false,
    "pycharm": {
     "name": "#%%\n"
    }
   }
  },
  {
   "cell_type": "code",
   "execution_count": 22,
   "outputs": [],
   "source": [
    "####################################\n",
    "#MODEL\n",
    "g1_centre = 513   # Guess for centre wavelength\n",
    "g1_max = g1_centre + 20      # Max value for centre wavelength\n",
    "g1_min = g1_centre - 20      # Min value for centre wavelength\n",
    "\n",
    "g1_fwhm = 50            #Guess for FWHM\n",
    "g1_fwhm_max = 150       #Maxvalue for FWHM\n",
    "g1_fwhm_min = 1         #Minvalue for FWHM\n",
    "\n",
    "g1_h = 15           #Guess for peak Intensity\n",
    "g1_h_max = 40      #Maxvalue for peak Intesity\n",
    "g1_h_min = 0         #Minvalue for peak Intensity\n",
    "\n",
    "bkg_offset = 2  #Background to be substracted"
   ],
   "metadata": {
    "collapsed": false,
    "pycharm": {
     "name": "#%%\n"
    }
   }
  },
  {
   "cell_type": "code",
   "execution_count": 23,
   "outputs": [],
   "source": [
    "m = cl_sem.create_model()\n",
    "\n",
    "#Background offset\n",
    "bkg = hs.model.components1D.Offset()\n",
    "#Gaussian peak\n",
    "g1 = hs.model.components1D.Expression(\n",
    "expression=\"height * exp(-(x - x0) ** 2 * 4 * log(2)/ fwhm ** 2)\",\n",
    "name=\"Perovskite Peak\",\n",
    "position=\"x0\",\n",
    "height=1,\n",
    "fwhm=1,\n",
    "x0=0,\n",
    "module=\"numpy\")\n",
    "#Tweak guessed initial parameters\n",
    "m.extend([g1, bkg])\n",
    "g1.x0.value, g1.x0.bmax, g1.x0.bmin = g1_centre, g1_max, g1_min\n",
    "g1.fwhm.value, g1.fwhm.bmax, g1.fwhm.bmin = g1_fwhm, g1_fwhm_max, g1_fwhm_min\n",
    "g1.height.value, g1.height.bmax, g1.height.bmin = g1_h, g1_h_max, g1_h_min\n",
    "bkg.offset.value = bkg_offset"
   ],
   "metadata": {
    "collapsed": false,
    "pycharm": {
     "name": "#%%\n"
    }
   }
  },
  {
   "cell_type": "code",
   "execution_count": 24,
   "outputs": [
    {
     "data": {
      "text/plain": "Model1D: cathodoluminescence_example\ncurrent_component_values: Perovskite Peak\nActive: True\nParameter Name |  Free |      Value |        Std |        Min |        Max\n============== | ===== | ========== | ========== | ========== | ==========\n          fwhm |  True |       50.0 |       None |        1.0 |      150.0\n        height |  True |       15.0 |       None |        0.0 |       40.0\n            x0 |  True |      513.0 |       None |      493.0 |      533.0\n\ncurrent_component_values: Offset\nActive: True\nParameter Name |  Free |      Value |        Std |        Min |        Max\n============== | ===== | ========== | ========== | ========== | ==========\n        offset |  True |        2.0 |       None |       None |       None\n",
      "text/html": "<h4>Model1D: cathodoluminescence_example</h4><p><b>current_component_values: Perovskite Peak</b><br />Active: True</p><table style=\"width:100%\"><tr><th>Parameter Name</th><th>Free</th>\n            <th>Value</th><th>Std</th><th>Min</th><th>Max</th></tr><tr><td>fwhm</td><td>True</td><td>    50</td>\n                    <td></td><td>     1</td><td>   150</td></tr><tr><td>height</td><td>True</td><td>    15</td>\n                    <td></td><td></td><td>    40</td></tr><tr><td>x0</td><td>True</td><td>   513</td>\n                    <td></td><td>   493</td><td>   533</td></tr></table><p><b>current_component_values: Offset</b><br />Active: True</p><table style=\"width:100%\"><tr><th>Parameter Name</th><th>Free</th>\n            <th>Value</th><th>Std</th><th>Min</th><th>Max</th></tr><tr><td>offset</td><td>True</td><td>     2</td>\n                    <td></td><td></td><td></td></tr></table>"
     },
     "metadata": {},
     "output_type": "display_data"
    }
   ],
   "source": [
    "#Fit for all the positions\n",
    "m.multifit(bounded=True, show_progressbar=True)\n",
    "m.print_current_values()"
   ],
   "metadata": {
    "collapsed": false,
    "pycharm": {
     "name": "#%%\n"
    }
   }
  },
  {
   "cell_type": "code",
   "execution_count": 34,
   "outputs": [],
   "source": [
    "#Plot the fit on the raw data\n",
    "m.plot(plot_components=True)"
   ],
   "metadata": {
    "collapsed": false,
    "pycharm": {
     "name": "#%%\n"
    }
   }
  },
  {
   "cell_type": "code",
   "execution_count": 36,
   "outputs": [],
   "source": [
    "m_x0 = g1.x0.as_signal()\n",
    "m_x0.plot(cmap='inferno')\n",
    "m_intensity = g1.height.as_signal()\n",
    "m_intensity.plot(cmap='viridis')"
   ],
   "metadata": {
    "collapsed": false,
    "pycharm": {
     "name": "#%%\n"
    }
   }
  },
  {
   "cell_type": "code",
   "execution_count": 37,
   "outputs": [
    {
     "data": {
      "text/plain": "<matplotlib.image.AxesImage at 0x27c000d3048>"
     },
     "execution_count": 37,
     "metadata": {},
     "output_type": "execute_result"
    }
   ],
   "source": [
    "#Make mask to remove region where the intensity is below the mean value:\n",
    "mask_treshold = m_intensity.data.mean()\n",
    "mask = m_intensity.data > mask_treshold #Returns a boolean matrix mask\n",
    "plt.imshow(mask)"
   ],
   "metadata": {
    "collapsed": false,
    "pycharm": {
     "name": "#%%\n"
    }
   }
  },
  {
   "cell_type": "code",
   "execution_count": 60,
   "outputs": [],
   "source": [
    "m_x0 = g1.x0.as_signal()\n",
    "m_x0.data[~mask] = np.nan #This replaces all of values in m_x0.data that correspond to False values in the mask with np.nan\n",
    "m_x0.plot(cmap='viridis')"
   ],
   "metadata": {
    "collapsed": false,
    "pycharm": {
     "name": "#%%\n"
    }
   }
  },
  {
   "cell_type": "code",
   "execution_count": null,
   "outputs": [],
   "source": [
    "\n"
   ],
   "metadata": {
    "collapsed": false,
    "pycharm": {
     "name": "#%%\n"
    }
   }
  }
 ],
 "metadata": {
  "kernelspec": {
   "display_name": "Python 3",
   "language": "python",
   "name": "python3"
  },
  "language_info": {
   "codemirror_mode": {
    "name": "ipython",
    "version": 3
   },
   "file_extension": ".py",
   "mimetype": "text/x-python",
   "name": "python",
   "nbconvert_exporter": "python",
   "pygments_lexer": "ipython3",
   "version": "3.6.9"
  }
 },
 "nbformat": 4,
 "nbformat_minor": 4
}