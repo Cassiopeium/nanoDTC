{
 "cells": [
  {
   "cell_type": "code",
   "execution_count": 2,
   "metadata": {
    "collapsed": false,
    "jupyter": {
     "outputs_hidden": false
    },
    "pycharm": {
     "name": "#%%\n"
    }
   },
   "outputs": [],
   "source": [
    "%matplotlib qt"
   ]
  },
  {
   "cell_type": "markdown",
   "metadata": {
    "pycharm": {
     "name": "#%% md\n"
    }
   },
   "source": [
    "# Dealing with big data\n",
    "This will show some demos for the discussion on how to work with large data files.\n",
    "\n",
    "## Dask package\n",
    "Dask array provides a parallel, larger-than-memory, n-dimensional array using blocked algorithms.\n",
    "\n",
    "Simply put: distributed Numpy.\n",
    "\n",
    "- Parallel: Uses all of the cores on your computer\n",
    "- Larger-than-memory: Lets you work on datasets that are larger than your available memory by breaking up your array into many small pieces, operating on those pieces in an order that minimizes the memory footprint of your computation, and effectively streaming data from disk.\n",
    "- Blocked Algorithms: Perform large computations by performing many smaller computations\n",
    "\n",
    "This demo was adapted from [dask tutorials](https://github.com/dask/dask-tutorial/blob/master/03_array.ipynb)."
   ]
  },
  {
   "cell_type": "code",
   "execution_count": 4,
   "metadata": {
    "collapsed": false,
    "jupyter": {
     "outputs_hidden": false
    },
    "pycharm": {
     "name": "#%%\n"
    }
   },
   "outputs": [
    {
     "data": {
      "text/plain": "dask.array<normal, shape=(10000, 10000), dtype=float64, chunksize=(500, 500), chunktype=numpy.ndarray>",
      "text/html": "<table>\n<tr>\n<td>\n<table>\n  <thead>\n    <tr><td> </td><th> Array </th><th> Chunk </th></tr>\n  </thead>\n  <tbody>\n    <tr><th> Bytes </th><td> 800.00 MB </td> <td> 2.00 MB </td></tr>\n    <tr><th> Shape </th><td> (10000, 10000) </td> <td> (500, 500) </td></tr>\n    <tr><th> Count </th><td> 400 Tasks </td><td> 400 Chunks </td></tr>\n    <tr><th> Type </th><td> float64 </td><td> numpy.ndarray </td></tr>\n  </tbody>\n</table>\n</td>\n<td>\n<svg width=\"170\" height=\"170\" style=\"stroke:rgb(0,0,0);stroke-width:1\" >\n\n  <!-- Horizontal lines -->\n  <line x1=\"0\" y1=\"0\" x2=\"120\" y2=\"0\" style=\"stroke-width:2\" />\n  <line x1=\"0\" y1=\"6\" x2=\"120\" y2=\"6\" />\n  <line x1=\"0\" y1=\"12\" x2=\"120\" y2=\"12\" />\n  <line x1=\"0\" y1=\"18\" x2=\"120\" y2=\"18\" />\n  <line x1=\"0\" y1=\"24\" x2=\"120\" y2=\"24\" />\n  <line x1=\"0\" y1=\"30\" x2=\"120\" y2=\"30\" />\n  <line x1=\"0\" y1=\"36\" x2=\"120\" y2=\"36\" />\n  <line x1=\"0\" y1=\"42\" x2=\"120\" y2=\"42\" />\n  <line x1=\"0\" y1=\"48\" x2=\"120\" y2=\"48\" />\n  <line x1=\"0\" y1=\"54\" x2=\"120\" y2=\"54\" />\n  <line x1=\"0\" y1=\"60\" x2=\"120\" y2=\"60\" />\n  <line x1=\"0\" y1=\"66\" x2=\"120\" y2=\"66\" />\n  <line x1=\"0\" y1=\"72\" x2=\"120\" y2=\"72\" />\n  <line x1=\"0\" y1=\"78\" x2=\"120\" y2=\"78\" />\n  <line x1=\"0\" y1=\"84\" x2=\"120\" y2=\"84\" />\n  <line x1=\"0\" y1=\"90\" x2=\"120\" y2=\"90\" />\n  <line x1=\"0\" y1=\"96\" x2=\"120\" y2=\"96\" />\n  <line x1=\"0\" y1=\"102\" x2=\"120\" y2=\"102\" />\n  <line x1=\"0\" y1=\"108\" x2=\"120\" y2=\"108\" />\n  <line x1=\"0\" y1=\"120\" x2=\"120\" y2=\"120\" style=\"stroke-width:2\" />\n\n  <!-- Vertical lines -->\n  <line x1=\"0\" y1=\"0\" x2=\"0\" y2=\"120\" style=\"stroke-width:2\" />\n  <line x1=\"6\" y1=\"0\" x2=\"6\" y2=\"120\" />\n  <line x1=\"12\" y1=\"0\" x2=\"12\" y2=\"120\" />\n  <line x1=\"18\" y1=\"0\" x2=\"18\" y2=\"120\" />\n  <line x1=\"24\" y1=\"0\" x2=\"24\" y2=\"120\" />\n  <line x1=\"30\" y1=\"0\" x2=\"30\" y2=\"120\" />\n  <line x1=\"36\" y1=\"0\" x2=\"36\" y2=\"120\" />\n  <line x1=\"42\" y1=\"0\" x2=\"42\" y2=\"120\" />\n  <line x1=\"48\" y1=\"0\" x2=\"48\" y2=\"120\" />\n  <line x1=\"54\" y1=\"0\" x2=\"54\" y2=\"120\" />\n  <line x1=\"60\" y1=\"0\" x2=\"60\" y2=\"120\" />\n  <line x1=\"66\" y1=\"0\" x2=\"66\" y2=\"120\" />\n  <line x1=\"72\" y1=\"0\" x2=\"72\" y2=\"120\" />\n  <line x1=\"78\" y1=\"0\" x2=\"78\" y2=\"120\" />\n  <line x1=\"84\" y1=\"0\" x2=\"84\" y2=\"120\" />\n  <line x1=\"90\" y1=\"0\" x2=\"90\" y2=\"120\" />\n  <line x1=\"96\" y1=\"0\" x2=\"96\" y2=\"120\" />\n  <line x1=\"102\" y1=\"0\" x2=\"102\" y2=\"120\" />\n  <line x1=\"108\" y1=\"0\" x2=\"108\" y2=\"120\" />\n  <line x1=\"120\" y1=\"0\" x2=\"120\" y2=\"120\" style=\"stroke-width:2\" />\n\n  <!-- Colored Rectangle -->\n  <polygon points=\"0.0,0.0 120.0,0.0 120.0,120.0 0.0,120.0\" style=\"fill:#8B4903A0;stroke-width:0\"/>\n\n  <!-- Text -->\n  <text x=\"60.000000\" y=\"140.000000\" font-size=\"1.0rem\" font-weight=\"100\" text-anchor=\"middle\" >10000</text>\n  <text x=\"140.000000\" y=\"60.000000\" font-size=\"1.0rem\" font-weight=\"100\" text-anchor=\"middle\" transform=\"rotate(-90,140.000000,60.000000)\">10000</text>\n</svg>\n</td>\n</tr>\n</table>"
     },
     "execution_count": 4,
     "metadata": {},
     "output_type": "execute_result"
    }
   ],
   "source": [
    "import numpy as np\n",
    "import dask.array as da\n",
    "example = da.random.normal(10, 0.1, size=(10000, 10000), chunks=(500, 500))\n",
    "example"
   ]
  },
  {
   "cell_type": "markdown",
   "metadata": {
    "pycharm": {
     "name": "#%% md\n"
    }
   },
   "source": [
    "### Example:\n",
    "\n",
    "- Construct a 20000x20000 array of normally distributed random values broken up into 1000x1000 sized chunks\n",
    "- Take the mean along one axis\n",
    "- Take every 100th element\n",
    "\n",
    "**NOTE: Show task manager memory profile**"
   ]
  },
  {
   "cell_type": "code",
   "execution_count": 5,
   "metadata": {
    "collapsed": false,
    "jupyter": {
     "outputs_hidden": false
    },
    "pycharm": {
     "name": "#%%\n"
    }
   },
   "outputs": [],
   "source": [
    "import numpy as np"
   ]
  },
  {
   "cell_type": "code",
   "execution_count": 6,
   "metadata": {
    "collapsed": false,
    "jupyter": {
     "outputs_hidden": false
    },
    "pycharm": {
     "name": "#%%\n"
    }
   },
   "outputs": [
    {
     "name": "stdout",
     "output_type": "stream",
     "text": [
      "Wall time: 31 s\n"
     ]
    }
   ],
   "source": [
    "%%time\n",
    "x = np.random.normal(10, 0.1, size=(20000, 20000))\n",
    "y = x.mean(axis=0)[::100]"
   ]
  },
  {
   "cell_type": "markdown",
   "metadata": {
    "pycharm": {
     "name": "#%% md\n"
    }
   },
   "source": [
    "**Note: Restart jupyter server** to clear up memory OR **reset_selective the variable**\n",
    "\n",
    "iPython has a set [built-in magic commands](https://ipython.readthedocs.io/en/stable/interactive/magics.html), one of which clears up a variable.\n",
    "However, memory handling in Python is tricky and not that simple."
   ]
  },
  {
   "cell_type": "code",
   "execution_count": 7,
   "metadata": {
    "collapsed": false,
    "jupyter": {
     "outputs_hidden": false
    },
    "pycharm": {
     "name": "#%%\n"
    }
   },
   "outputs": [],
   "source": [
    "# The -f param will force resetting\n",
    "%reset_selective -f x\n",
    "%reset_selective -f y"
   ]
  },
  {
   "cell_type": "code",
   "execution_count": null,
   "outputs": [],
   "source": [
    "# Alternatively, use the garbage collector package\n",
    "import gc\n",
    "\n",
    "del x,y\n",
    "gc.collect()"
   ],
   "metadata": {
    "collapsed": false,
    "pycharm": {
     "name": "#%%\n"
    }
   }
  },
  {
   "cell_type": "markdown",
   "source": [
    "Now repeat with dask instead:"
   ],
   "metadata": {
    "collapsed": false,
    "pycharm": {
     "name": "#%% md\n"
    }
   }
  },
  {
   "cell_type": "code",
   "execution_count": 8,
   "metadata": {
    "collapsed": false,
    "jupyter": {
     "outputs_hidden": false
    },
    "pycharm": {
     "name": "#%%\n"
    }
   },
   "outputs": [],
   "source": [
    "import dask.array as da"
   ]
  },
  {
   "cell_type": "code",
   "execution_count": 9,
   "metadata": {
    "collapsed": false,
    "jupyter": {
     "outputs_hidden": false
    },
    "pycharm": {
     "name": "#%%\n"
    }
   },
   "outputs": [
    {
     "name": "stdout",
     "output_type": "stream",
     "text": [
      "Wall time: 5.41 s\n"
     ]
    }
   ],
   "source": [
    "%%time\n",
    "x = da.random.normal(10, 0.1, size=(20000, 20000), chunks=(1000, 1000))\n",
    "y = x.mean(axis=0)[::100]\n",
    "y = y.compute()"
   ]
  },
  {
   "cell_type": "markdown",
   "metadata": {},
   "source": [
    "Memory difference:\n",
    "\n",
    "<img src=\"memory_diff.png\" width=400 />"
   ]
  },
  {
   "cell_type": "markdown",
   "metadata": {
    "pycharm": {
     "name": "#%% md\n"
    }
   },
   "source": [
    "## Sampling with pandas\n",
    "\n",
    "Pandas `sample()` is used to generate a sample random row or column from the function caller data frame."
   ]
  },
  {
   "cell_type": "code",
   "execution_count": 13,
   "metadata": {
    "collapsed": false,
    "jupyter": {
     "outputs_hidden": false
    },
    "pycharm": {
     "name": "#%%\n"
    }
   },
   "outputs": [
    {
     "data": {
      "text/html": [
       "<div>\n",
       "<style scoped>\n",
       "    .dataframe tbody tr th:only-of-type {\n",
       "        vertical-align: middle;\n",
       "    }\n",
       "\n",
       "    .dataframe tbody tr th {\n",
       "        vertical-align: top;\n",
       "    }\n",
       "\n",
       "    .dataframe thead th {\n",
       "        text-align: right;\n",
       "    }\n",
       "</style>\n",
       "<table border=\"1\" class=\"dataframe\">\n",
       "  <thead>\n",
       "    <tr style=\"text-align: right;\">\n",
       "      <th></th>\n",
       "      <th>First Name</th>\n",
       "      <th>Gender</th>\n",
       "      <th>Start Date</th>\n",
       "      <th>Last Login Time</th>\n",
       "      <th>Salary</th>\n",
       "      <th>Bonus %</th>\n",
       "      <th>Senior Management</th>\n",
       "      <th>Team</th>\n",
       "    </tr>\n",
       "  </thead>\n",
       "  <tbody>\n",
       "    <tr>\n",
       "      <td>0</td>\n",
       "      <td>Douglas</td>\n",
       "      <td>Male</td>\n",
       "      <td>8/6/1993</td>\n",
       "      <td>12:42 PM</td>\n",
       "      <td>97308</td>\n",
       "      <td>6.945</td>\n",
       "      <td>True</td>\n",
       "      <td>Marketing</td>\n",
       "    </tr>\n",
       "    <tr>\n",
       "      <td>1</td>\n",
       "      <td>Thomas</td>\n",
       "      <td>Male</td>\n",
       "      <td>3/31/1996</td>\n",
       "      <td>6:53 AM</td>\n",
       "      <td>61933</td>\n",
       "      <td>4.170</td>\n",
       "      <td>True</td>\n",
       "      <td>NaN</td>\n",
       "    </tr>\n",
       "    <tr>\n",
       "      <td>2</td>\n",
       "      <td>Maria</td>\n",
       "      <td>Female</td>\n",
       "      <td>4/23/1993</td>\n",
       "      <td>11:17 AM</td>\n",
       "      <td>130590</td>\n",
       "      <td>11.858</td>\n",
       "      <td>False</td>\n",
       "      <td>Finance</td>\n",
       "    </tr>\n",
       "    <tr>\n",
       "      <td>3</td>\n",
       "      <td>Jerry</td>\n",
       "      <td>Male</td>\n",
       "      <td>3/4/2005</td>\n",
       "      <td>1:00 PM</td>\n",
       "      <td>138705</td>\n",
       "      <td>9.340</td>\n",
       "      <td>True</td>\n",
       "      <td>Finance</td>\n",
       "    </tr>\n",
       "    <tr>\n",
       "      <td>4</td>\n",
       "      <td>Larry</td>\n",
       "      <td>Male</td>\n",
       "      <td>1/24/1998</td>\n",
       "      <td>4:47 PM</td>\n",
       "      <td>101004</td>\n",
       "      <td>1.389</td>\n",
       "      <td>True</td>\n",
       "      <td>Client Services</td>\n",
       "    </tr>\n",
       "    <tr>\n",
       "      <td>...</td>\n",
       "      <td>...</td>\n",
       "      <td>...</td>\n",
       "      <td>...</td>\n",
       "      <td>...</td>\n",
       "      <td>...</td>\n",
       "      <td>...</td>\n",
       "      <td>...</td>\n",
       "      <td>...</td>\n",
       "    </tr>\n",
       "    <tr>\n",
       "      <td>995</td>\n",
       "      <td>Henry</td>\n",
       "      <td>NaN</td>\n",
       "      <td>11/23/2014</td>\n",
       "      <td>6:09 AM</td>\n",
       "      <td>132483</td>\n",
       "      <td>16.655</td>\n",
       "      <td>False</td>\n",
       "      <td>Distribution</td>\n",
       "    </tr>\n",
       "    <tr>\n",
       "      <td>996</td>\n",
       "      <td>Phillip</td>\n",
       "      <td>Male</td>\n",
       "      <td>1/31/1984</td>\n",
       "      <td>6:30 AM</td>\n",
       "      <td>42392</td>\n",
       "      <td>19.675</td>\n",
       "      <td>False</td>\n",
       "      <td>Finance</td>\n",
       "    </tr>\n",
       "    <tr>\n",
       "      <td>997</td>\n",
       "      <td>Russell</td>\n",
       "      <td>Male</td>\n",
       "      <td>5/20/2013</td>\n",
       "      <td>12:39 PM</td>\n",
       "      <td>96914</td>\n",
       "      <td>1.421</td>\n",
       "      <td>False</td>\n",
       "      <td>Product</td>\n",
       "    </tr>\n",
       "    <tr>\n",
       "      <td>998</td>\n",
       "      <td>Larry</td>\n",
       "      <td>Male</td>\n",
       "      <td>4/20/2013</td>\n",
       "      <td>4:45 PM</td>\n",
       "      <td>60500</td>\n",
       "      <td>11.985</td>\n",
       "      <td>False</td>\n",
       "      <td>Business Development</td>\n",
       "    </tr>\n",
       "    <tr>\n",
       "      <td>999</td>\n",
       "      <td>Albert</td>\n",
       "      <td>Male</td>\n",
       "      <td>5/15/2012</td>\n",
       "      <td>6:24 PM</td>\n",
       "      <td>129949</td>\n",
       "      <td>10.169</td>\n",
       "      <td>True</td>\n",
       "      <td>Sales</td>\n",
       "    </tr>\n",
       "  </tbody>\n",
       "</table>\n",
       "<p>1000 rows × 8 columns</p>\n",
       "</div>"
      ],
      "text/plain": [
       "    First Name  Gender  Start Date Last Login Time  Salary  Bonus %  \\\n",
       "0      Douglas    Male    8/6/1993        12:42 PM   97308    6.945   \n",
       "1       Thomas    Male   3/31/1996         6:53 AM   61933    4.170   \n",
       "2        Maria  Female   4/23/1993        11:17 AM  130590   11.858   \n",
       "3        Jerry    Male    3/4/2005         1:00 PM  138705    9.340   \n",
       "4        Larry    Male   1/24/1998         4:47 PM  101004    1.389   \n",
       "..         ...     ...         ...             ...     ...      ...   \n",
       "995      Henry     NaN  11/23/2014         6:09 AM  132483   16.655   \n",
       "996    Phillip    Male   1/31/1984         6:30 AM   42392   19.675   \n",
       "997    Russell    Male   5/20/2013        12:39 PM   96914    1.421   \n",
       "998      Larry    Male   4/20/2013         4:45 PM   60500   11.985   \n",
       "999     Albert    Male   5/15/2012         6:24 PM  129949   10.169   \n",
       "\n",
       "    Senior Management                  Team  \n",
       "0                True             Marketing  \n",
       "1                True                   NaN  \n",
       "2               False               Finance  \n",
       "3                True               Finance  \n",
       "4                True       Client Services  \n",
       "..                ...                   ...  \n",
       "995             False          Distribution  \n",
       "996             False               Finance  \n",
       "997             False               Product  \n",
       "998             False  Business Development  \n",
       "999              True                 Sales  \n",
       "\n",
       "[1000 rows x 8 columns]"
      ]
     },
     "execution_count": 13,
     "metadata": {},
     "output_type": "execute_result"
    }
   ],
   "source": [
    "# importing pandas package\n",
    "import pandas as pd\n",
    "\n",
    "# making data frame from csv file\n",
    "df = pd.read_csv(\"dummy_data.csv\")\n",
    "df\n",
    "#df.head(20)"
   ]
  },
  {
   "cell_type": "markdown",
   "metadata": {},
   "source": [
    "Or load partially the file, using `skiprows`:"
   ]
  },
  {
   "cell_type": "code",
   "execution_count": 12,
   "metadata": {},
   "outputs": [
    {
     "data": {
      "text/html": [
       "<div>\n",
       "<style scoped>\n",
       "    .dataframe tbody tr th:only-of-type {\n",
       "        vertical-align: middle;\n",
       "    }\n",
       "\n",
       "    .dataframe tbody tr th {\n",
       "        vertical-align: top;\n",
       "    }\n",
       "\n",
       "    .dataframe thead th {\n",
       "        text-align: right;\n",
       "    }\n",
       "</style>\n",
       "<table border=\"1\" class=\"dataframe\">\n",
       "  <thead>\n",
       "    <tr style=\"text-align: right;\">\n",
       "      <th></th>\n",
       "      <th>First Name</th>\n",
       "      <th>Gender</th>\n",
       "      <th>Start Date</th>\n",
       "      <th>Last Login Time</th>\n",
       "      <th>Salary</th>\n",
       "      <th>Bonus %</th>\n",
       "      <th>Senior Management</th>\n",
       "      <th>Team</th>\n",
       "    </tr>\n",
       "  </thead>\n",
       "  <tbody>\n",
       "    <tr>\n",
       "      <td>0</td>\n",
       "      <td>Harold</td>\n",
       "      <td>Male</td>\n",
       "      <td>1/2/1985</td>\n",
       "      <td>9:40 PM</td>\n",
       "      <td>77544</td>\n",
       "      <td>12.447</td>\n",
       "      <td>False</td>\n",
       "      <td>Business Development</td>\n",
       "    </tr>\n",
       "    <tr>\n",
       "      <td>1</td>\n",
       "      <td>Jonathan</td>\n",
       "      <td>Male</td>\n",
       "      <td>7/17/2009</td>\n",
       "      <td>8:15 AM</td>\n",
       "      <td>130581</td>\n",
       "      <td>16.736</td>\n",
       "      <td>True</td>\n",
       "      <td>NaN</td>\n",
       "    </tr>\n",
       "    <tr>\n",
       "      <td>2</td>\n",
       "      <td>Emily</td>\n",
       "      <td>Female</td>\n",
       "      <td>1/13/1988</td>\n",
       "      <td>6:42 AM</td>\n",
       "      <td>36711</td>\n",
       "      <td>19.028</td>\n",
       "      <td>True</td>\n",
       "      <td>Human Resources</td>\n",
       "    </tr>\n",
       "    <tr>\n",
       "      <td>3</td>\n",
       "      <td>Kathryn</td>\n",
       "      <td>Female</td>\n",
       "      <td>6/9/1988</td>\n",
       "      <td>9:29 AM</td>\n",
       "      <td>86439</td>\n",
       "      <td>7.799</td>\n",
       "      <td>False</td>\n",
       "      <td>Finance</td>\n",
       "    </tr>\n",
       "    <tr>\n",
       "      <td>4</td>\n",
       "      <td>Barbara</td>\n",
       "      <td>NaN</td>\n",
       "      <td>12/10/1980</td>\n",
       "      <td>11:04 PM</td>\n",
       "      <td>90187</td>\n",
       "      <td>14.764</td>\n",
       "      <td>True</td>\n",
       "      <td>Distribution</td>\n",
       "    </tr>\n",
       "    <tr>\n",
       "      <td>5</td>\n",
       "      <td>NaN</td>\n",
       "      <td>Female</td>\n",
       "      <td>10/11/1990</td>\n",
       "      <td>10:57 PM</td>\n",
       "      <td>98385</td>\n",
       "      <td>10.925</td>\n",
       "      <td>NaN</td>\n",
       "      <td>Human Resources</td>\n",
       "    </tr>\n",
       "    <tr>\n",
       "      <td>6</td>\n",
       "      <td>Amy</td>\n",
       "      <td>NaN</td>\n",
       "      <td>5/19/1984</td>\n",
       "      <td>11:47 AM</td>\n",
       "      <td>102839</td>\n",
       "      <td>10.385</td>\n",
       "      <td>True</td>\n",
       "      <td>Distribution</td>\n",
       "    </tr>\n",
       "    <tr>\n",
       "      <td>7</td>\n",
       "      <td>Raymond</td>\n",
       "      <td>Male</td>\n",
       "      <td>12/12/1986</td>\n",
       "      <td>12:18 PM</td>\n",
       "      <td>47529</td>\n",
       "      <td>2.712</td>\n",
       "      <td>True</td>\n",
       "      <td>Product</td>\n",
       "    </tr>\n",
       "    <tr>\n",
       "      <td>8</td>\n",
       "      <td>Walter</td>\n",
       "      <td>Male</td>\n",
       "      <td>5/21/1992</td>\n",
       "      <td>12:39 AM</td>\n",
       "      <td>144701</td>\n",
       "      <td>16.323</td>\n",
       "      <td>True</td>\n",
       "      <td>Marketing</td>\n",
       "    </tr>\n",
       "    <tr>\n",
       "      <td>9</td>\n",
       "      <td>Albert</td>\n",
       "      <td>Male</td>\n",
       "      <td>5/15/2012</td>\n",
       "      <td>6:24 PM</td>\n",
       "      <td>129949</td>\n",
       "      <td>10.169</td>\n",
       "      <td>True</td>\n",
       "      <td>Sales</td>\n",
       "    </tr>\n",
       "  </tbody>\n",
       "</table>\n",
       "</div>"
      ],
      "text/plain": [
       "  First Name  Gender  Start Date Last Login Time  Salary  Bonus %  \\\n",
       "0     Harold    Male    1/2/1985         9:40 PM   77544   12.447   \n",
       "1   Jonathan    Male   7/17/2009         8:15 AM  130581   16.736   \n",
       "2      Emily  Female   1/13/1988         6:42 AM   36711   19.028   \n",
       "3    Kathryn  Female    6/9/1988         9:29 AM   86439    7.799   \n",
       "4    Barbara     NaN  12/10/1980        11:04 PM   90187   14.764   \n",
       "5        NaN  Female  10/11/1990        10:57 PM   98385   10.925   \n",
       "6        Amy     NaN   5/19/1984        11:47 AM  102839   10.385   \n",
       "7    Raymond    Male  12/12/1986        12:18 PM   47529    2.712   \n",
       "8     Walter    Male   5/21/1992        12:39 AM  144701   16.323   \n",
       "9     Albert    Male   5/15/2012         6:24 PM  129949   10.169   \n",
       "\n",
       "  Senior Management                  Team  \n",
       "0             False  Business Development  \n",
       "1              True                   NaN  \n",
       "2              True       Human Resources  \n",
       "3             False               Finance  \n",
       "4              True          Distribution  \n",
       "5               NaN       Human Resources  \n",
       "6              True          Distribution  \n",
       "7              True               Product  \n",
       "8              True             Marketing  \n",
       "9              True                 Sales  "
      ]
     },
     "execution_count": 12,
     "metadata": {},
     "output_type": "execute_result"
    }
   ],
   "source": [
    "n = 100\n",
    "dfn = pd.read_csv(\"dummy_data.csv\", skiprows=(lambda i: i % n !=0))\n",
    "dfn"
   ]
  },
  {
   "cell_type": "markdown",
   "metadata": {},
   "source": [
    "Selecting randomly n number of cases:"
   ]
  },
  {
   "cell_type": "code",
   "execution_count": 16,
   "metadata": {
    "collapsed": false,
    "jupyter": {
     "outputs_hidden": false
    },
    "pycharm": {
     "name": "#%%\n"
    }
   },
   "outputs": [
    {
     "data": {
      "text/html": [
       "<div>\n",
       "<style scoped>\n",
       "    .dataframe tbody tr th:only-of-type {\n",
       "        vertical-align: middle;\n",
       "    }\n",
       "\n",
       "    .dataframe tbody tr th {\n",
       "        vertical-align: top;\n",
       "    }\n",
       "\n",
       "    .dataframe thead th {\n",
       "        text-align: right;\n",
       "    }\n",
       "</style>\n",
       "<table border=\"1\" class=\"dataframe\">\n",
       "  <thead>\n",
       "    <tr style=\"text-align: right;\">\n",
       "      <th></th>\n",
       "      <th>First Name</th>\n",
       "      <th>Gender</th>\n",
       "      <th>Start Date</th>\n",
       "      <th>Last Login Time</th>\n",
       "      <th>Salary</th>\n",
       "      <th>Bonus %</th>\n",
       "      <th>Senior Management</th>\n",
       "      <th>Team</th>\n",
       "    </tr>\n",
       "  </thead>\n",
       "  <tbody>\n",
       "    <tr>\n",
       "      <td>818</td>\n",
       "      <td>Ann</td>\n",
       "      <td>Female</td>\n",
       "      <td>10/3/1980</td>\n",
       "      <td>1:08 AM</td>\n",
       "      <td>96941</td>\n",
       "      <td>10.048</td>\n",
       "      <td>True</td>\n",
       "      <td>Distribution</td>\n",
       "    </tr>\n",
       "    <tr>\n",
       "      <td>534</td>\n",
       "      <td>Gerald</td>\n",
       "      <td>NaN</td>\n",
       "      <td>1/8/1992</td>\n",
       "      <td>3:50 PM</td>\n",
       "      <td>133366</td>\n",
       "      <td>12.292</td>\n",
       "      <td>False</td>\n",
       "      <td>Legal</td>\n",
       "    </tr>\n",
       "    <tr>\n",
       "      <td>5</td>\n",
       "      <td>Dennis</td>\n",
       "      <td>Male</td>\n",
       "      <td>4/18/1987</td>\n",
       "      <td>1:35 AM</td>\n",
       "      <td>115163</td>\n",
       "      <td>10.125</td>\n",
       "      <td>False</td>\n",
       "      <td>Legal</td>\n",
       "    </tr>\n",
       "    <tr>\n",
       "      <td>424</td>\n",
       "      <td>Matthew</td>\n",
       "      <td>NaN</td>\n",
       "      <td>6/9/2003</td>\n",
       "      <td>7:35 AM</td>\n",
       "      <td>79443</td>\n",
       "      <td>14.637</td>\n",
       "      <td>False</td>\n",
       "      <td>Human Resources</td>\n",
       "    </tr>\n",
       "    <tr>\n",
       "      <td>246</td>\n",
       "      <td>Fred</td>\n",
       "      <td>NaN</td>\n",
       "      <td>12/2/1984</td>\n",
       "      <td>2:03 PM</td>\n",
       "      <td>59937</td>\n",
       "      <td>12.045</td>\n",
       "      <td>True</td>\n",
       "      <td>Human Resources</td>\n",
       "    </tr>\n",
       "  </tbody>\n",
       "</table>\n",
       "</div>"
      ],
      "text/plain": [
       "    First Name  Gender Start Date Last Login Time  Salary  Bonus %  \\\n",
       "818        Ann  Female  10/3/1980         1:08 AM   96941   10.048   \n",
       "534     Gerald     NaN   1/8/1992         3:50 PM  133366   12.292   \n",
       "5       Dennis    Male  4/18/1987         1:35 AM  115163   10.125   \n",
       "424    Matthew     NaN   6/9/2003         7:35 AM   79443   14.637   \n",
       "246       Fred     NaN  12/2/1984         2:03 PM   59937   12.045   \n",
       "\n",
       "    Senior Management             Team  \n",
       "818              True     Distribution  \n",
       "534             False            Legal  \n",
       "5               False            Legal  \n",
       "424             False  Human Resources  \n",
       "246              True  Human Resources  "
      ]
     },
     "execution_count": 16,
     "metadata": {},
     "output_type": "execute_result"
    }
   ],
   "source": [
    "# Sample only 5 data points\n",
    "df.sample(n = 5)"
   ]
  },
  {
   "cell_type": "code",
   "execution_count": 17,
   "metadata": {
    "collapsed": false,
    "jupyter": {
     "outputs_hidden": false
    },
    "pycharm": {
     "name": "#%%\n"
    }
   },
   "outputs": [
    {
     "data": {
      "text/html": [
       "<div>\n",
       "<style scoped>\n",
       "    .dataframe tbody tr th:only-of-type {\n",
       "        vertical-align: middle;\n",
       "    }\n",
       "\n",
       "    .dataframe tbody tr th {\n",
       "        vertical-align: top;\n",
       "    }\n",
       "\n",
       "    .dataframe thead th {\n",
       "        text-align: right;\n",
       "    }\n",
       "</style>\n",
       "<table border=\"1\" class=\"dataframe\">\n",
       "  <thead>\n",
       "    <tr style=\"text-align: right;\">\n",
       "      <th></th>\n",
       "      <th>First Name</th>\n",
       "      <th>Gender</th>\n",
       "      <th>Start Date</th>\n",
       "      <th>Last Login Time</th>\n",
       "      <th>Salary</th>\n",
       "      <th>Bonus %</th>\n",
       "      <th>Senior Management</th>\n",
       "      <th>Team</th>\n",
       "    </tr>\n",
       "  </thead>\n",
       "  <tbody>\n",
       "    <tr>\n",
       "      <td>761</td>\n",
       "      <td>Jennifer</td>\n",
       "      <td>Female</td>\n",
       "      <td>3/31/2015</td>\n",
       "      <td>7:43 PM</td>\n",
       "      <td>132084</td>\n",
       "      <td>10.006</td>\n",
       "      <td>True</td>\n",
       "      <td>Engineering</td>\n",
       "    </tr>\n",
       "    <tr>\n",
       "      <td>42</td>\n",
       "      <td>Beverly</td>\n",
       "      <td>Female</td>\n",
       "      <td>9/9/1998</td>\n",
       "      <td>8:26 PM</td>\n",
       "      <td>121918</td>\n",
       "      <td>15.835</td>\n",
       "      <td>False</td>\n",
       "      <td>Legal</td>\n",
       "    </tr>\n",
       "    <tr>\n",
       "      <td>143</td>\n",
       "      <td>Teresa</td>\n",
       "      <td>NaN</td>\n",
       "      <td>1/28/2016</td>\n",
       "      <td>10:55 AM</td>\n",
       "      <td>140013</td>\n",
       "      <td>8.689</td>\n",
       "      <td>True</td>\n",
       "      <td>Engineering</td>\n",
       "    </tr>\n",
       "    <tr>\n",
       "      <td>417</td>\n",
       "      <td>Sarah</td>\n",
       "      <td>NaN</td>\n",
       "      <td>8/31/1981</td>\n",
       "      <td>2:51 PM</td>\n",
       "      <td>37748</td>\n",
       "      <td>9.047</td>\n",
       "      <td>False</td>\n",
       "      <td>Human Resources</td>\n",
       "    </tr>\n",
       "    <tr>\n",
       "      <td>445</td>\n",
       "      <td>Chris</td>\n",
       "      <td>Male</td>\n",
       "      <td>12/12/2006</td>\n",
       "      <td>1:57 AM</td>\n",
       "      <td>71642</td>\n",
       "      <td>1.496</td>\n",
       "      <td>False</td>\n",
       "      <td>NaN</td>\n",
       "    </tr>\n",
       "    <tr>\n",
       "      <td>...</td>\n",
       "      <td>...</td>\n",
       "      <td>...</td>\n",
       "      <td>...</td>\n",
       "      <td>...</td>\n",
       "      <td>...</td>\n",
       "      <td>...</td>\n",
       "      <td>...</td>\n",
       "      <td>...</td>\n",
       "    </tr>\n",
       "    <tr>\n",
       "      <td>484</td>\n",
       "      <td>Joe</td>\n",
       "      <td>Male</td>\n",
       "      <td>4/14/2000</td>\n",
       "      <td>3:14 PM</td>\n",
       "      <td>50645</td>\n",
       "      <td>11.119</td>\n",
       "      <td>False</td>\n",
       "      <td>Marketing</td>\n",
       "    </tr>\n",
       "    <tr>\n",
       "      <td>717</td>\n",
       "      <td>Jason</td>\n",
       "      <td>NaN</td>\n",
       "      <td>4/15/1988</td>\n",
       "      <td>8:16 PM</td>\n",
       "      <td>97480</td>\n",
       "      <td>11.518</td>\n",
       "      <td>False</td>\n",
       "      <td>Human Resources</td>\n",
       "    </tr>\n",
       "    <tr>\n",
       "      <td>593</td>\n",
       "      <td>Marie</td>\n",
       "      <td>Female</td>\n",
       "      <td>11/23/2000</td>\n",
       "      <td>5:06 AM</td>\n",
       "      <td>125574</td>\n",
       "      <td>4.644</td>\n",
       "      <td>False</td>\n",
       "      <td>Sales</td>\n",
       "    </tr>\n",
       "    <tr>\n",
       "      <td>818</td>\n",
       "      <td>Ann</td>\n",
       "      <td>Female</td>\n",
       "      <td>10/3/1980</td>\n",
       "      <td>1:08 AM</td>\n",
       "      <td>96941</td>\n",
       "      <td>10.048</td>\n",
       "      <td>True</td>\n",
       "      <td>Distribution</td>\n",
       "    </tr>\n",
       "    <tr>\n",
       "      <td>828</td>\n",
       "      <td>Cynthia</td>\n",
       "      <td>Female</td>\n",
       "      <td>7/12/2006</td>\n",
       "      <td>8:55 AM</td>\n",
       "      <td>149684</td>\n",
       "      <td>7.864</td>\n",
       "      <td>False</td>\n",
       "      <td>Product</td>\n",
       "    </tr>\n",
       "  </tbody>\n",
       "</table>\n",
       "<p>100 rows × 8 columns</p>\n",
       "</div>"
      ],
      "text/plain": [
       "    First Name  Gender  Start Date Last Login Time  Salary  Bonus %  \\\n",
       "761   Jennifer  Female   3/31/2015         7:43 PM  132084   10.006   \n",
       "42     Beverly  Female    9/9/1998         8:26 PM  121918   15.835   \n",
       "143     Teresa     NaN   1/28/2016        10:55 AM  140013    8.689   \n",
       "417      Sarah     NaN   8/31/1981         2:51 PM   37748    9.047   \n",
       "445      Chris    Male  12/12/2006         1:57 AM   71642    1.496   \n",
       "..         ...     ...         ...             ...     ...      ...   \n",
       "484        Joe    Male   4/14/2000         3:14 PM   50645   11.119   \n",
       "717      Jason     NaN   4/15/1988         8:16 PM   97480   11.518   \n",
       "593      Marie  Female  11/23/2000         5:06 AM  125574    4.644   \n",
       "818        Ann  Female   10/3/1980         1:08 AM   96941   10.048   \n",
       "828    Cynthia  Female   7/12/2006         8:55 AM  149684    7.864   \n",
       "\n",
       "    Senior Management             Team  \n",
       "761              True      Engineering  \n",
       "42              False            Legal  \n",
       "143              True      Engineering  \n",
       "417             False  Human Resources  \n",
       "445             False              NaN  \n",
       "..                ...              ...  \n",
       "484             False        Marketing  \n",
       "717             False  Human Resources  \n",
       "593             False            Sales  \n",
       "818              True     Distribution  \n",
       "828             False          Product  \n",
       "\n",
       "[100 rows x 8 columns]"
      ]
     },
     "execution_count": 17,
     "metadata": {},
     "output_type": "execute_result"
    }
   ],
   "source": [
    "# Sample a 10% of the whole dataset\n",
    "df.sample(frac=0.1)"
   ]
  },
  {
   "cell_type": "markdown",
   "metadata": {
    "pycharm": {
     "name": "#%% md\n"
    }
   },
   "source": [
    "Estimating a parameter and getting the real parameter: comparison."
   ]
  },
  {
   "cell_type": "code",
   "execution_count": 18,
   "metadata": {
    "collapsed": false,
    "jupyter": {
     "outputs_hidden": false
    },
    "pycharm": {
     "name": "#%%\n"
    }
   },
   "outputs": [
    {
     "name": "stdout",
     "output_type": "stream",
     "text": [
      "Mean\n",
      "Salary     91224.2600\n",
      "Bonus %       10.5919\n",
      "dtype: float64\n",
      "--------\n",
      "Standard deviation\n",
      "Salary     34425.705676\n",
      "Bonus %        5.297754\n",
      "dtype: float64\n"
     ]
    }
   ],
   "source": [
    "estimated_m = df.sample(frac=0.2).mean(axis = 0, skipna = True)\n",
    "estimated_std = df.sample(frac=0.2).std(axis = 0, skipna = True)\n",
    "print('Mean')\n",
    "print(estimated_m)\n",
    "print('--------')\n",
    "print('Standard deviation')\n",
    "print(estimated_std)"
   ]
  },
  {
   "cell_type": "code",
   "execution_count": 19,
   "metadata": {
    "collapsed": false,
    "jupyter": {
     "outputs_hidden": false
    },
    "pycharm": {
     "name": "#%%\n"
    }
   },
   "outputs": [
    {
     "name": "stdout",
     "output_type": "stream",
     "text": [
      "Mean\n",
      "Salary     90662.181000\n",
      "Bonus %       10.207555\n",
      "dtype: float64\n",
      "--------\n",
      "Standard deviation\n",
      "Salary     32923.693342\n",
      "Bonus %        5.528481\n",
      "dtype: float64\n"
     ]
    }
   ],
   "source": [
    "estimated_m = df.mean(axis = 0, skipna = True)\n",
    "estimated_std = df.std(axis = 0, skipna = True)\n",
    "print('Mean')\n",
    "print(estimated_m)\n",
    "print('--------')\n",
    "print('Standard deviation')\n",
    "print(estimated_std)"
   ]
  },
  {
   "cell_type": "markdown",
   "metadata": {
    "pycharm": {
     "name": "#%% md\n"
    }
   },
   "source": [
    "## Rebinning data\n",
    "\n",
    "The `rebin()` method supports rebinning the data to arbitrary new shapes as long as the number of dimensions stays the same.\n",
    "It can use two different algorithms:\n",
    "\n",
    "- If the new shape dimensions are divisors of the old shape’s, the operation supports easy computation and is usually faster.\n",
    "- Otherwise, the operation requires linear interpolation and is generally slower."
   ]
  },
  {
   "cell_type": "code",
   "execution_count": 10,
   "metadata": {
    "collapsed": false,
    "jupyter": {
     "outputs_hidden": false
    },
    "pycharm": {
     "name": "#%%\n"
    }
   },
   "outputs": [
    {
     "name": "stderr",
     "output_type": "stream",
     "text": [
      "WARNING:hyperspy.api:The traitsui GUI elements are not available, probably because the hyperspy_gui_traitsui package is not installed.\n"
     ]
    }
   ],
   "source": [
    "import hyperspy.api as hs\n",
    "s = hs.datasets.example_signals.EDS_SEM_Spectrum().as_lazy()\n",
    "s.plot()"
   ]
  },
  {
   "cell_type": "code",
   "execution_count": 11,
   "metadata": {
    "collapsed": false,
    "jupyter": {
     "outputs_hidden": false
    },
    "pycharm": {
     "name": "#%%\n"
    }
   },
   "outputs": [],
   "source": [
    "s_bin = s.rebin(scale=[4])\n",
    "s_bin.plot()"
   ]
  },
  {
   "cell_type": "code",
   "execution_count": 12,
   "metadata": {
    "collapsed": false,
    "jupyter": {
     "outputs_hidden": false
    },
    "pycharm": {
     "name": "#%%\n"
    }
   },
   "outputs": [
    {
     "data": {
      "text/plain": "(4096, 1024)"
     },
     "execution_count": 12,
     "metadata": {},
     "output_type": "execute_result"
    }
   ],
   "source": [
    "# Check the number of bytes for each object\n",
    "s.data.nbytes, s_bin.data.nbytes"
   ]
  },
  {
   "cell_type": "markdown",
   "metadata": {
    "collapsed": false,
    "jupyter": {
     "outputs_hidden": false
    },
    "pycharm": {
     "name": "#%% md\n"
    }
   },
   "source": [
    "# Managing files in batch\n",
    "\n",
    "This is mainly done with the `os` and `glob` packages."
   ]
  },
  {
   "cell_type": "code",
   "execution_count": 11,
   "outputs": [
    {
     "data": {
      "text/plain": "['folder_to_batch_process\\\\scan_01.txt',\n 'folder_to_batch_process\\\\scan_02.txt',\n 'folder_to_batch_process\\\\scan_03.txt',\n 'folder_to_batch_process\\\\scan_04.txt',\n 'folder_to_batch_process\\\\scan_05.txt']"
     },
     "execution_count": 11,
     "metadata": {},
     "output_type": "execute_result"
    }
   ],
   "source": [
    "import os, glob\n",
    "\n",
    "data = []\n",
    "base_root = r\"C:\\Users\\jf631\\Documents\\GitHub\\jordiferrero\\nanoDTC\\python_demo_notebooks\\big_data_demos\"\n",
    "path = \"folder_to_batch_process\"\n",
    "\n",
    "directory = os.path.join(base_root, path)\n",
    "\n",
    "for root, dirs, files in os.walk(path):\n",
    "    for file in files:\n",
    "        if file.endswith('.txt'):\n",
    "            data.append(os.path.join(root, file))\n",
    "\n",
    "data.sort()\n",
    "data"
   ],
   "metadata": {
    "collapsed": false,
    "pycharm": {
     "name": "#%%\n"
    }
   }
  },
  {
   "cell_type": "code",
   "execution_count": 4,
   "outputs": [
    {
     "name": "stdout",
     "output_type": "stream",
     "text": [
      "C:\\Users\\jf631\\Documents\\GitHub\\jordiferrero\\nanoDTC\\python_demo_notebooks\\big_data_demos\\folder_to_batch_process\\scan_01.txt\n",
      "scan_01.txt\n",
      "C:\\Users\\jf631\\Documents\\GitHub\\jordiferrero\\nanoDTC\\python_demo_notebooks\\big_data_demos\\folder_to_batch_process\n"
     ]
    }
   ],
   "source": [
    "for fname in data[:1]:\n",
    "    print(fname)\n",
    "    print(os.path.basename(fname))\n",
    "    print(os.path.dirname(fname))"
   ],
   "metadata": {
    "collapsed": false,
    "pycharm": {
     "name": "#%%\n"
    }
   }
  },
  {
   "cell_type": "markdown",
   "source": [
    "You can also use the powers of the `glob` package in conjuction with `os`."
   ],
   "metadata": {
    "collapsed": false,
    "pycharm": {
     "name": "#%% md\n"
    }
   }
  },
  {
   "cell_type": "code",
   "execution_count": 13,
   "outputs": [
    {
     "data": {
      "text/plain": "['C:\\\\Users\\\\jf631\\\\Documents\\\\GitHub\\\\jordiferrero\\\\nanoDTC\\\\python_demo_notebooks\\\\big_data_demos\\\\folder_to_batch_process\\\\scan_01.txt',\n 'C:\\\\Users\\\\jf631\\\\Documents\\\\GitHub\\\\jordiferrero\\\\nanoDTC\\\\python_demo_notebooks\\\\big_data_demos\\\\folder_to_batch_process\\\\scan_02.txt',\n 'C:\\\\Users\\\\jf631\\\\Documents\\\\GitHub\\\\jordiferrero\\\\nanoDTC\\\\python_demo_notebooks\\\\big_data_demos\\\\folder_to_batch_process\\\\scan_03.txt',\n 'C:\\\\Users\\\\jf631\\\\Documents\\\\GitHub\\\\jordiferrero\\\\nanoDTC\\\\python_demo_notebooks\\\\big_data_demos\\\\folder_to_batch_process\\\\scan_04.txt',\n 'C:\\\\Users\\\\jf631\\\\Documents\\\\GitHub\\\\jordiferrero\\\\nanoDTC\\\\python_demo_notebooks\\\\big_data_demos\\\\folder_to_batch_process\\\\scan_05.txt']"
     },
     "execution_count": 13,
     "metadata": {},
     "output_type": "execute_result"
    }
   ],
   "source": [
    "base_root = r\"C:\\Users\\jf631\\Documents\\GitHub\\jordiferrero\\nanoDTC\\python_demo_notebooks\\big_data_demos\"\n",
    "folder = \"folder_to_batch_process\"\n",
    "# Note we use an asterisk\n",
    "endswith_str = '*.txt' # You can also use asterisk for folders e.g. `*/*.txt`\n",
    "\n",
    "data = [f for f in glob.glob(os.path.join(base_root, folder, endswith_str))]\n",
    "data.sort()\n",
    "data\n"
   ],
   "metadata": {
    "collapsed": false,
    "pycharm": {
     "name": "#%%\n"
    }
   }
  }
 ],
 "metadata": {
  "kernelspec": {
   "display_name": "Python 3",
   "language": "python",
   "name": "python3"
  },
  "language_info": {
   "codemirror_mode": {
    "name": "ipython",
    "version": 3
   },
   "file_extension": ".py",
   "mimetype": "text/x-python",
   "name": "python",
   "nbconvert_exporter": "python",
   "pygments_lexer": "ipython3",
   "version": "3.6.9"
  }
 },
 "nbformat": 4,
 "nbformat_minor": 4
}